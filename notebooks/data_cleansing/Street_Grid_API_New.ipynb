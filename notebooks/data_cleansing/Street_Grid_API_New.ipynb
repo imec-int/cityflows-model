{
 "cells": [
  {
   "cell_type": "markdown",
   "execution_count": 65,
   "metadata": {},
   "outputs": [],
   "source": [
    "## Get data from DT API"
   ]
  },
  {
   "cell_type": "code",
   "execution_count": 1,
   "metadata": {},
   "outputs": [
    {
     "name": "stdout",
     "output_type": "stream",
     "text": "Fetching Wegenregister streets through Digital Twin API...\nDone Fetching.\n"
    }
   ],
   "source": [
    "import requests\n",
    "import json\n",
    "\n",
    "api_url_base = 'https://api.staging.digitaltwin.imec-apt.be/'\n",
    "\n",
    "#Getting the bounding box of the street grid\n",
    "api_url = api_url_base + 'v1/config/map/bounds'\n",
    "variable={}\n",
    "headers={}\n",
    "response = requests.get(api_url, headers=headers, params=variable)\n",
    "# get content to json format: response.content.json()\n",
    "\n",
    "# getting all streets\n",
    "\n",
    "api_url = api_url_base + 'v1/roads/segments'\n",
    "variable={}\n",
    "headers={}\n",
    "print('Fetching Wegenregister streets through Digital Twin API...')\n",
    "response = requests.get(api_url, headers=headers, params=variable)\n",
    "print('Done Fetching.')\n",
    "streets = response.json()"
   ]
  },
  {
   "cell_type": "code",
   "execution_count": 2,
   "metadata": {},
   "outputs": [
    {
     "data": {
      "text/plain": "{'id': 1,\n 'originalId': 74369,\n 'versionId': '74369_3',\n 'geometryVersionId': '74369_3',\n 'startPointId': 822796,\n 'endPointId': 980069,\n 'status': {'id': 4, 'value': 'in gebruik'},\n 'morphology': {'id': 120, 'value': 'dienstweg'},\n 'category': {'id': '-9', 'value': 'niet van toepassing'},\n 'left': {'id': '-9', 'name': ''},\n 'right': {'id': '-9', 'name': ''},\n 'managedBy': {'id': 'AWV121',\n  'value': 'Agentschap Wegen en Verkeer - District Antwerpen'},\n 'organisation': {'id': 'AWV', 'value': 'Agentschap Wegen en Verkeer'},\n 'accessibility': {'id': 1, 'value': 'openbare weg'},\n 'geometry': {'type': 'LineString',\n  'coordinates': [[151220.7320000008, 210372.2800000012],\n   [151217.2940000072, 210376.6230000034],\n   [151216.0820000023, 210379.4230000041],\n   [151216.0090000033, 210382.6250000037],\n   [151216.9210000038, 210385.7040000036],\n   [151217.5030000061, 210387.6710000038],\n   [151219.9470000044, 210394.8770000041],\n   [151219.8770000041, 210398.2860000059],\n   [151217.6330000088, 210401.3020000048],\n   [151217.2990000024, 210401.6690000035],\n   [151214.9760000035, 210404.2200000063],\n   [151211.9870000035, 210404.8680000044],\n   [151203.7770000026, 210407.4719999991]]},\n 'recordedAt': '2017-03-14T12:50:19+00:00',\n 'beginAt': '2017-03-14T13:03:13+00:00',\n 'widths': [{'width': 4,\n   'id': 230950,\n   'roadSegment': {'originalId': 74369, 'geometryVersionId': '74369_1'},\n   'startPosition': 0,\n   'endPosition': 47.452,\n   'createdAt': '2014-02-20T13:35:32+00:00',\n   'createdBy': {'id': 'AGIV',\n    'value': 'Agentschap voor Geografische Informatie Vlaanderen'}}],\n 'numberOfLanes': [{'amount': 1,\n   'direction': {'id': 3, 'value': 'onafhankelijk van de digitalisatiezin'},\n   'id': 225945,\n   'roadSegment': {'originalId': 74369, 'geometryVersionId': '74369_1'},\n   'startPosition': 0,\n   'endPosition': 47.452,\n   'createdAt': '2014-02-20T13:35:32+00:00',\n   'createdBy': {'id': 'AGIV',\n    'value': 'Agentschap voor Geografische Informatie Vlaanderen'}}],\n 'pavements': [{'type': {'id': 1, 'value': 'weg met vaste verharding'},\n   'id': 227907,\n   'roadSegment': {'originalId': 74369, 'geometryVersionId': '74369_1'},\n   'startPosition': 0,\n   'endPosition': 47.452,\n   'createdAt': '2014-02-20T13:35:32+00:00',\n   'createdBy': {'id': 'AGIV',\n    'value': 'Agentschap voor Geografische Informatie Vlaanderen'}}]}"
     },
     "execution_count": 2,
     "metadata": {},
     "output_type": "execute_result"
    }
   ],
   "source": [
    "streets[0]"
   ]
  },
  {
   "cell_type": "markdown",
   "execution_count": 155,
   "metadata": {},
   "outputs": [
    {
     "ename": "SyntaxError",
     "evalue": "invalid syntax (<ipython-input-155-9c671133ad6d>, line 1)",
     "output_type": "error",
     "traceback": [
      "\u001b[1;36m  File \u001b[1;32m\"<ipython-input-155-9c671133ad6d>\"\u001b[1;36m, line \u001b[1;32m1\u001b[0m\n\u001b[1;33m    Checking: outputting geojson to file to see if this is te whole grid\u001b[0m\n\u001b[1;37m                               ^\u001b[0m\n\u001b[1;31mSyntaxError\u001b[0m\u001b[1;31m:\u001b[0m invalid syntax\n"
     ]
    }
   ],
   "source": [
    "Checking: outputting geojson to file to see if this is te whole grid"
   ]
  },
  {
   "cell_type": "code",
   "execution_count": 157,
   "metadata": {},
   "outputs": [],
   "source": [
    "geojsonStreets = {\n",
    "  \"type\": \"FeatureCollection\",\n",
    "  \"features\": []}\n",
    "for street in streets:\n",
    "    geojsonStreets['features'].append({'type': 'Feature', 'properties': {}, 'geometry':{'type': 'LineString' , 'coordinates' : transformStreetToGPS(street['geometry']['coordinates'])} })\n",
    "\n",
    "#debugging street API\n",
    "with open('streets_visualisation.json', 'w') as outfile:\n",
    "    json.dump(geojsonStreets, outfile)"
   ]
  },
  {
   "cell_type": "markdown",
   "execution_count": null,
   "metadata": {},
   "outputs": [],
   "source": [
    "## Convertions and handling"
   ]
  },
  {
   "cell_type": "code",
   "execution_count": 3,
   "metadata": {},
   "outputs": [],
   "source": [
    "def coordinate_lambert_to_WGS84(x,y):\n",
    "    \"\"\" returns an dict of lon,lat coordinates\n",
    "\n",
    "    input: coordinaten in CRS = EPSG 3035 (Lambert)\n",
    "    towards EPSG WGS 84 standaard GPS coordinaten (EPSG 4326)\n",
    "    the transformation will be done using the pyProj package.\n",
    "    (https://pyproj4.github.io/pyproj/dev/api/transformer.html#pyproj-transform) \n",
    "    If this fails, another try is done through an API:\n",
    "    https://github.com/klokantech/epsg.io\n",
    "    \"\"\"\n",
    "    import requests\n",
    "    import pyproj\n",
    "    from pyproj import transform, Proj\n",
    "    \n",
    "    #using pyProj package to avoid dependence on API module\n",
    "    pIn = pyproj.Proj(init='epsg:31370')\n",
    "    pOut = pyproj.Proj(init='epsg:4326')\n",
    "    try: \n",
    "        new_x, new_y = pyproj.transform(pIn,pOut, x, y)\n",
    "        return {'lon': round(new_x,10), 'lat': round(new_y,10)}\n",
    "    except:\n",
    "        #using API if pyProj fails\n",
    "        api_token = 'your_api_token'\n",
    "        api_url_base = 'http://epsg.io/trans'\n",
    "        api_url = api_url_base\n",
    "        headers = ''\n",
    "        variable={'x': str(x), 'y': str(y), 'z' : '0',\n",
    "                's_srs' : 31370, 't_srs' : 4326, 'callback':'jsonpFunction'}    \n",
    "        response = requests.get(api_url, headers=headers, params=variable)\n",
    "\n",
    "        if response.status_code == 200:\n",
    "            # print(json.loads(response.content.decode('utf-8')[14:-1]))\n",
    "            temp = json.loads(response.content.decode('utf-8')[14:-1])\n",
    "            return {'lon': float(temp['x']), 'lat': float(temp['y'])}\n",
    "\n",
    "        return None"
   ]
  },
  {
   "cell_type": "code",
   "execution_count": 4,
   "metadata": {},
   "outputs": [
    {
     "data": {
      "text/plain": "{'lon': 4.3862131369, 'lat': 51.2033145201}"
     },
     "execution_count": 4,
     "metadata": {},
     "output_type": "execute_result"
    }
   ],
   "source": [
    "coordinate_lambert_to_WGS84(151220, 210372)"
   ]
  },
  {
   "cell_type": "code",
   "execution_count": 5,
   "metadata": {},
   "outputs": [],
   "source": [
    "def transformStreetToGPS(coordinateListLambert):\n",
    "    newCoordinateList = []\n",
    "    for coordinate in coordinateListLambert:\n",
    "        result = coordinate_lambert_to_WGS84(coordinate[0],coordinate[1])\n",
    "        newCoordinateList.append([result['lon'], result['lat']])\n",
    "    return newCoordinateList"
   ]
  },
  {
   "cell_type": "code",
   "execution_count": 6,
   "metadata": {},
   "outputs": [
    {
     "name": "stdout",
     "output_type": "stream",
     "text": "[[4.3862236112, 51.2033170353], [4.3861744359, 51.2033560797], [4.3861571045, 51.20338125], [4.3861560712, 51.2034100311], [4.3861691307, 51.2034377046], [4.3861774648, 51.2034553836], [4.3862124586, 51.203520149], [4.386211469, 51.2035507907], [4.3861793724, 51.2035779048], [4.3861745949, 51.2035812043], [4.3861413663, 51.2036041389], [4.3860986021, 51.20360997], [4.3859811426, 51.2036333938]]\n"
    }
   ],
   "source": [
    "test = transformStreetToGPS(streets[0]['geometry']['coordinates'])\n",
    "print(test)"
   ]
  },
  {
   "cell_type": "code",
   "execution_count": 7,
   "metadata": {},
   "outputs": [],
   "source": [
    "def calculateStreetLengthGPS(coordinateList):\n",
    "    from math import sin, cos, sqrt, atan2, radians\n",
    "    R = 6373.0  # approximate radius of earth in km\n",
    "    length = 0\n",
    "    for coordinate in coordinateList[:-1]:\n",
    "        nextCoordinate = coordinateList[coordinateList.index(coordinate)+1]\n",
    "        \n",
    "        lat1 = radians(coordinate[0])\n",
    "        lon1 = radians(coordinate[1])\n",
    "        lat2 = radians(nextCoordinate[0])\n",
    "        lon2 = radians(nextCoordinate[1])\n",
    "\n",
    "        dlon = lon2 - lon1\n",
    "        dlat = lat2 - lat1\n",
    "\n",
    "        a = sin(dlat / 2)**2 + cos(lat1) * cos(lat2) * sin(dlon / 2)**2\n",
    "        c = 2 * atan2(sqrt(a), sqrt(1 - a))\n",
    "\n",
    "        distance = R * c\n",
    "        length += distance\n",
    "        \n",
    "    #print(\"Result in kilometers:\", length)\n",
    "    return length"
   ]
  },
  {
   "cell_type": "code",
   "execution_count": 8,
   "metadata": {},
   "outputs": [],
   "source": [
    "def calculateStreetLengthLambert(coordinateListLambert):\n",
    "    from math import sin, cos, sqrt, atan2, radians\n",
    "    length = 0\n",
    "    for coordinate in coordinateListLambert[:-1]:\n",
    "        nextCoordinate = coordinateListLambert[coordinateListLambert.index(coordinate)+1]\n",
    "        \n",
    "        lat1 = (coordinate[0])\n",
    "        lon1 = (coordinate[1])\n",
    "        lat2 = (nextCoordinate[0])\n",
    "        lon2 = (nextCoordinate[1])\n",
    "        \n",
    "        dlon = lon2 - lon1\n",
    "        dlat = lat2 - lat1\n",
    "        \n",
    "        \n",
    "\n",
    "        distance = sqrt(dlat**2 + dlon**2)\n",
    "        #print(\"Pythagoras in meters:\", distance)\n",
    "        length += distance\n",
    "        \n",
    "    #print(\"Result in meters:\", length)\n",
    "    return length"
   ]
  },
  {
   "cell_type": "code",
   "execution_count": 9,
   "metadata": {},
   "outputs": [
    {
     "data": {
      "text/plain": "47.4515620782812"
     },
     "execution_count": 9,
     "metadata": {},
     "output_type": "execute_result"
    }
   ],
   "source": [
    "calculateStreetLengthLambert(streets[0]['geometry']['coordinates'])"
   ]
  },
  {
   "cell_type": "markdown",
   "execution_count": null,
   "metadata": {},
   "outputs": [],
   "source": [
    "Applying following functions:\n",
    "- calculate street length\n",
    "- transform coordinates to GPS"
   ]
  },
  {
   "cell_type": "code",
   "execution_count": 10,
   "metadata": {},
   "outputs": [],
   "source": [
    "for street in streets:\n",
    "    street['SHAPE_Length'] = calculateStreetLengthLambert(street['geometry']['coordinates'])\n",
    "    street['geometryGPS'] = {'type': 'LineString', 'coordinates':[]}\n",
    "    street['geometryGPS']['coordinates'] = transformStreetToGPS(street['geometry']['coordinates'])\n",
    "    street_length = calculateStreetLengthGPS(street['geometryGPS']['coordinates'])\n",
    "    #street['SHAPE_Length'] = 1000*street_length"
   ]
  },
  {
   "cell_type": "code",
   "execution_count": 11,
   "metadata": {},
   "outputs": [
    {
     "name": "stdout",
     "output_type": "stream",
     "text": "{'id': 6, 'originalId': 74410, 'versionId': '74410_1', 'geometryVersionId': '74410_1', 'startPointId': 148819, 'endPointId': 197371, 'status': {'id': 4, 'value': 'in gebruik'}, 'morphology': {'id': 114, 'value': 'wandel- of fietsweg, niet toegankelijk voor andere voertuigen'}, 'category': {'id': '-9', 'value': 'niet van toepassing'}, 'left': {'id': '-9', 'name': ''}, 'right': {'id': '-9', 'name': ''}, 'managedBy': {'id': '11002', 'value': 'Stad Antwerpen'}, 'organisation': {'id': 'AGIV', 'value': 'Agentschap voor Geografische Informatie Vlaanderen'}, 'accessibility': {'id': 1, 'value': 'openbare weg'}, 'geometry': {'type': 'LineString', 'coordinates': [[150840.7810000032, 213128.454], [150841.936999999, 213125.4070000015], [150847.75, 213117.4070000015], [150852.5939999968, 213111.938000001], [150853.9689999968, 213111.3599999994], [150854.4689999968, 213111.1409999989], [150857.4060000032, 213109.8909999989], [150859.8790000007, 213109.8669999987]]}, 'recordedAt': '2014-02-20T13:35:32+00:00', 'beginAt': '2014-02-20T13:35:32+00:00', 'widths': [{'width': -8, 'id': 349565, 'roadSegment': {'originalId': 74410, 'geometryVersionId': '74410_1'}, 'startPosition': 0, 'endPosition': 28.156, 'createdAt': '2014-02-20T13:35:32+00:00', 'createdBy': {'id': 'AGIV', 'value': 'Agentschap voor Geografische Informatie Vlaanderen'}}], 'numberOfLanes': [{'amount': -9, 'direction': {'id': 3, 'value': 'onafhankelijk van de digitalisatiezin'}, 'id': 351648, 'roadSegment': {'originalId': 74410, 'geometryVersionId': '74410_1'}, 'startPosition': 0, 'endPosition': 28.156, 'createdAt': '2014-02-20T13:35:32+00:00', 'createdBy': {'id': 'AGIV', 'value': 'Agentschap voor Geografische Informatie Vlaanderen'}}], 'pavements': [{'type': {'id': 2, 'value': 'weg met losse verharding'}, 'id': 351202, 'roadSegment': {'originalId': 74410, 'geometryVersionId': '74410_1'}, 'startPosition': 0, 'endPosition': 28.156, 'createdAt': '2014-02-20T13:35:32+00:00', 'createdBy': {'id': 'AGIV', 'value': 'Agentschap voor Geografische Informatie Vlaanderen'}}], 'SHAPE_Length': 28.15607935544573, 'geometryGPS': {'type': 'LineString', 'coordinates': [[4.3807940802, 51.2280913519], [4.3808106214, 51.2280639626], [4.3808938175, 51.2279920467], [4.380963148, 51.2279428818], [4.3809828303, 51.2279376844], [4.3809899874, 51.2279357152], [4.3810320287, 51.2279244751], [4.3810674308, 51.2279242555]]}}\n"
    }
   ],
   "source": [
    "#controle\n",
    "print(streets[5])"
   ]
  },
  {
   "cell_type": "code",
   "execution_count": 12,
   "metadata": {},
   "outputs": [],
   "source": [
    "#debugging point\n",
    "with open('data_streets.json', 'w') as outfile:\n",
    "    json.dump(streets, outfile)"
   ]
  },
  {
   "cell_type": "markdown",
   "execution_count": null,
   "metadata": {},
   "outputs": [],
   "source": [
    "## Handling squares"
   ]
  },
  {
   "cell_type": "code",
   "execution_count": 13,
   "metadata": {},
   "outputs": [],
   "source": [
    "##########################\n",
    "# 2.2 Modality split for each street \n",
    "# can be improved using Yolo, telraam data, statistics, ...\n",
    "##########################\n",
    "def applyModalitySplit(js_street):\n",
    "    #fucntion to calculate some modality info for street grid, taking in street grid, modifying it and pushing it back out\n",
    "    from shapely.geometry import shape\n",
    "\n",
    "    for street in js_street:\n",
    "        shape_street = shape(street['geometryGPS'])\n",
    "        street['properties'] = {}\n",
    "        street['properties']['isSquare'] = (shape_street.geom_type != 'LineString') #marking out squares\n",
    "\n",
    "    #street type and modality split\n",
    "    for street in js_street:\n",
    "    \n",
    "        if (street['properties']['isSquare']):\n",
    "            sigma = 0.10\n",
    "            street['properties']['modal_split_car'] = 0.00\n",
    "            street['properties']['modal_split_bike'] = 0.5 + sigma\n",
    "            street['properties']['modal_split_pedestrian'] = 0.5 + sigma\n",
    "            street['properties']['modal_split_public_transport'] = 0.00\n",
    "            street['properties']['modal_split_truck'] = 0.00\n",
    "            #this is a square, not a street\n",
    "        \n",
    "        elif (street['morphology'] == 'wandel- of fietsweg, niet toegankelijk voor andere voertuigen') :\n",
    "            sigma = 0.10\n",
    "            street['properties']['modal_split_car'] = 0.00\n",
    "            street['properties']['modal_split_bike'] = 0.5 + sigma\n",
    "            street['properties']['modal_split_pedestrian'] = 0.5 + sigma\n",
    "            street['properties']['modal_split_public_transport'] = 0.00\n",
    "            street['properties']['modal_split_truck'] = 0.00\n",
    "            \n",
    "        else:\n",
    "            sigma = 0.30\n",
    "            street['properties']['modal_split_car'] = 0.309 + sigma\n",
    "            street['properties']['modal_split_bike'] = 0.213 + sigma\n",
    "            street['properties']['modal_split_pedestrian'] = 0.083 + sigma\n",
    "            street['properties']['modal_split_public_transport'] = 0.384 + sigma\n",
    "            street['properties']['modal_split_truck'] = 0.011 + sigma\n",
    "            # data: https://www.mobielvlaanderen.be/pdf/ovg52/samenvatting.pdf\n",
    "            \n",
    "            #nested if for detailed data\n",
    "            if (street['category'] == 'hoofdweg') :\n",
    "                street['properties']['modal_split_car'] = 0.58 + sigma\n",
    "                street['properties']['modal_split_bike'] = 0.19 + sigma\n",
    "                street['properties']['modal_split_pedestrian'] = 0.18 + sigma\n",
    "                street['properties']['modal_split_public_transport'] = 0.01 + sigma\n",
    "                street['properties']['modal_split_truck'] = 0.04 + sigma\n",
    "                # data: straatvinken 2018; de Vrièrestraat [http://straatvinken.datylon.com/]\n",
    "                # improvement: this counts car and bus as same number of passengers, correction should be applied\n",
    "\n",
    "            elif (street['category'] == 'buurtweg') :\n",
    "                street['properties']['modal_split_car'] = 0.58 + sigma\n",
    "                street['properties']['modal_split_bike'] = 0.19 + sigma\n",
    "                street['properties']['modal_split_pedestrian'] = 0.18 + sigma\n",
    "                street['properties']['modal_split_public_transport'] = 0.01 + sigma\n",
    "                street['properties']['modal_split_truck'] = 0.04 + sigma\n",
    "\n",
    "            elif (street['category'] == 'wijkweg') :\n",
    "                street['properties']['modal_split_car'] = 0.11 + sigma\n",
    "                street['properties']['modal_split_bike'] = 0.21 + sigma\n",
    "                street['properties']['modal_split_pedestrian'] = 0.68 + sigma\n",
    "                street['properties']['modal_split_public_transport'] = 0.00\n",
    "                street['properties']['modal_split_truck'] = 0.00\n",
    "                # data: straatvinken 2018; Franckenstraat [http://straatvinken.datylon.com/]\n",
    "                # improvement: this counts car and bus as same number of passengers, correction should be applied\n",
    "        \n",
    "        #for a simpler setup\n",
    "        street['properties']['modal_split_motorized'] = street['properties']['modal_split_car'] + street['properties']['modal_split_truck'] + street['properties']['modal_split_public_transport']\n",
    "        street['properties']['modal_split_non_motorized'] = street['properties']['modal_split_pedestrian'] + street['properties']['modal_split_bike']\n",
    "\n",
    "    return js_street"
   ]
  },
  {
   "cell_type": "code",
   "execution_count": 14,
   "metadata": {},
   "outputs": [],
   "source": [
    "streets = applyModalitySplit(streets)"
   ]
  },
  {
   "cell_type": "code",
   "execution_count": 56,
   "metadata": {},
   "outputs": [],
   "source": [
    "##########################\n",
    "### get in squares\n",
    "##########################\n",
    "def getSquares():\n",
    "    path = '../metadata/'\n",
    "    filename = 'UP_plain_squares.geojson'\n",
    "    with open(path+filename) as json_file:\n",
    "        squares = json.load(json_file)\n",
    "\n",
    "    js_square = {'type': 'FeatureCollection', 'crs': {'type': 'name', 'properties': {'name': 'EPSG:4326'}}, 'features': squares['features']}\n",
    "\n",
    "    return js_square"
   ]
  },
  {
   "cell_type": "code",
   "execution_count": 57,
   "metadata": {},
   "outputs": [],
   "source": [
    "#merge squares and streets\n",
    "def mergeStreetsSquares(squares, streets):\n",
    "    #one final json\n",
    "    #temp = to_add_squares + to_add_streets\n",
    "    #js_locations = {'type': 'FeatureCollection', 'crs': {'type': 'name', 'properties': {'name': 'EPSG:4326'}}, 'features': temp}\n",
    "    return None"
   ]
  },
  {
   "cell_type": "markdown",
   "execution_count": null,
   "metadata": {},
   "outputs": [],
   "source": [
    "## Outputting street grid with information to file\n",
    "The file is being read by code to render the streets."
   ]
  },
  {
   "cell_type": "code",
   "execution_count": 32,
   "metadata": {},
   "outputs": [],
   "source": [
    "def streetGridToFile(js_street):\n",
    "    from shapely.geometry import shape\n",
    "    path = '../metadata/'\n",
    "    with open(path + 'open_street_with_modalities.json', 'w') as json_file:\n",
    "        json.dump(js_street, json_file)\n",
    "    print(js_street[0]['properties']['modal_split_car'])\n",
    "    linelist2 = list(map(lambda street: {'street_geo' : shape(street[\"geometryGPS\"]), 'street_id' : street['originalId'],\\\n",
    "                                        'modal_split_car': street['properties']['modal_split_car'],\\\n",
    "                                        'modal_split_bike': street['properties']['modal_split_bike'],\\\n",
    "                                        'modal_split_pedestrian': street['properties']['modal_split_pedestrian'],\\\n",
    "                                        'modal_split_public_transport': street['properties']['modal_split_public_transport'],\\\n",
    "                                        'modal_split_truck': street['properties']['modal_split_truck'],\\\n",
    "                                        'modal_split_motorized': street['properties']['modal_split_motorized'],\\\n",
    "                                        'modal_split_non_motorized': street['properties']['modal_split_non_motorized']}, js_street))\n",
    "\n",
    "    df_street = pd.DataFrame(columns=['street_id', 'street_geo', 'street_length', 'modal_split_car', 'modal_split_bike', \n",
    "                                    'modal_split_pedestrian', 'modal_split_public_transport', 'modal_split_truck',\n",
    "                                    'modal_split_motorized', 'modal_split_non_motorized'])\n",
    "\n",
    "    for street in linelist2:\n",
    "        df_street = df_street.append({'street_id': street['street_id'], 'street_geo': street['street_geo'], 'street_length': street['SHAPE_Length'],\\\n",
    "                                    'modal_split_car': street['properties']['modal_split_car'],\\\n",
    "                                    'modal_split_bike': street['properties']['modal_split_bike'],\\\n",
    "                                    'modal_split_pedestrian': street['properties']['modal_split_pedestrian'],\\\n",
    "                                    'modal_split_public_transport': street['properties']['modal_split_public_transport'],\\\n",
    "                                    'modal_split_truck': street['properties']['modal_split_truck'],\\\n",
    "                                    'modal_split_non_motorized': street['properties']['modal_split_non_motorized'],\\\n",
    "                                    'modal_split_motorized': street['properties']['modal_split_motorized']}, ignore_index=True)\n",
    "\n",
    "    df_street.to_csv(path + 'street_properties.csv')\n",
    "    print('open_street_with_modalities.json written to disk, street_properties.csv written to disk.')"
   ]
  },
  {
   "cell_type": "code",
   "execution_count": 33,
   "metadata": {},
   "outputs": [
    {
     "name": "stdout",
     "output_type": "stream",
     "text": "0.609\n"
    },
    {
     "ename": "KeyError",
     "evalue": "'modal_split_car'",
     "output_type": "error",
     "traceback": [
      "\u001b[1;31m---------------------------------------------------------------------------\u001b[0m",
      "\u001b[1;31mKeyError\u001b[0m                                  Traceback (most recent call last)",
      "\u001b[1;32m<ipython-input-33-7860e78690bf>\u001b[0m in \u001b[0;36m<module>\u001b[1;34m\u001b[0m\n\u001b[1;32m----> 1\u001b[1;33m \u001b[0mstreetGridToFile\u001b[0m\u001b[1;33m(\u001b[0m\u001b[0mstreets\u001b[0m\u001b[1;33m)\u001b[0m\u001b[1;33m\u001b[0m\u001b[1;33m\u001b[0m\u001b[0m\n\u001b[0m",
      "\u001b[1;32m<ipython-input-32-2ec692fb000e>\u001b[0m in \u001b[0;36mstreetGridToFile\u001b[1;34m(js_street)\u001b[0m\n\u001b[0;32m     12\u001b[0m                                         \u001b[1;34m'modal_split_truck'\u001b[0m\u001b[1;33m:\u001b[0m \u001b[0mstreet\u001b[0m\u001b[1;33m[\u001b[0m\u001b[1;34m'properties'\u001b[0m\u001b[1;33m]\u001b[0m\u001b[1;33m[\u001b[0m\u001b[1;34m'modal_split_truck'\u001b[0m\u001b[1;33m]\u001b[0m\u001b[1;33m,\u001b[0m\u001b[0;31m\\\u001b[0m\u001b[1;33m\u001b[0m\u001b[1;33m\u001b[0m\u001b[0m\n\u001b[0;32m     13\u001b[0m                                         \u001b[1;34m'modal_split_motorized'\u001b[0m\u001b[1;33m:\u001b[0m \u001b[0mstreet\u001b[0m\u001b[1;33m[\u001b[0m\u001b[1;34m'properties'\u001b[0m\u001b[1;33m]\u001b[0m\u001b[1;33m[\u001b[0m\u001b[1;34m'modal_split_motorized'\u001b[0m\u001b[1;33m]\u001b[0m\u001b[1;33m,\u001b[0m\u001b[0;31m\\\u001b[0m\u001b[1;33m\u001b[0m\u001b[1;33m\u001b[0m\u001b[0m\n\u001b[1;32m---> 14\u001b[1;33m                                         'modal_split_non_motorized': street['properties']['modal_split_non_motorized']}, js_street))\n\u001b[0m\u001b[0;32m     15\u001b[0m \u001b[1;33m\u001b[0m\u001b[0m\n\u001b[0;32m     16\u001b[0m     df_street = pd.DataFrame(columns=['street_id', 'street_geo', 'street_length', 'modal_split_car', 'modal_split_bike', \n",
      "\u001b[1;32m<ipython-input-32-2ec692fb000e>\u001b[0m in \u001b[0;36m<lambda>\u001b[1;34m(street)\u001b[0m\n\u001b[0;32m      6\u001b[0m     \u001b[0mprint\u001b[0m\u001b[1;33m(\u001b[0m\u001b[0mjs_street\u001b[0m\u001b[1;33m[\u001b[0m\u001b[1;36m0\u001b[0m\u001b[1;33m]\u001b[0m\u001b[1;33m[\u001b[0m\u001b[1;34m'properties'\u001b[0m\u001b[1;33m]\u001b[0m\u001b[1;33m[\u001b[0m\u001b[1;34m'modal_split_car'\u001b[0m\u001b[1;33m]\u001b[0m\u001b[1;33m)\u001b[0m\u001b[1;33m\u001b[0m\u001b[1;33m\u001b[0m\u001b[0m\n\u001b[0;32m      7\u001b[0m     linelist2 = list(map(lambda street: {'street_geo' : shape(street[\"geometryGPS\"]), 'street_id' : street['originalId'],\\\n\u001b[1;32m----> 8\u001b[1;33m                                         \u001b[1;34m'modal_split_car'\u001b[0m\u001b[1;33m:\u001b[0m \u001b[0mstreet\u001b[0m\u001b[1;33m[\u001b[0m\u001b[1;34m'properties'\u001b[0m\u001b[1;33m]\u001b[0m\u001b[1;33m[\u001b[0m\u001b[1;34m'modal_split_car'\u001b[0m\u001b[1;33m]\u001b[0m\u001b[1;33m,\u001b[0m\u001b[0;31m\\\u001b[0m\u001b[1;33m\u001b[0m\u001b[1;33m\u001b[0m\u001b[0m\n\u001b[0m\u001b[0;32m      9\u001b[0m                                         \u001b[1;34m'modal_split_bike'\u001b[0m\u001b[1;33m:\u001b[0m \u001b[0mstreet\u001b[0m\u001b[1;33m[\u001b[0m\u001b[1;34m'properties'\u001b[0m\u001b[1;33m]\u001b[0m\u001b[1;33m[\u001b[0m\u001b[1;34m'modal_split_bike'\u001b[0m\u001b[1;33m]\u001b[0m\u001b[1;33m,\u001b[0m\u001b[0;31m\\\u001b[0m\u001b[1;33m\u001b[0m\u001b[1;33m\u001b[0m\u001b[0m\n\u001b[0;32m     10\u001b[0m                                         \u001b[1;34m'modal_split_pedestrian'\u001b[0m\u001b[1;33m:\u001b[0m \u001b[0mstreet\u001b[0m\u001b[1;33m[\u001b[0m\u001b[1;34m'properties'\u001b[0m\u001b[1;33m]\u001b[0m\u001b[1;33m[\u001b[0m\u001b[1;34m'modal_split_pedestrian'\u001b[0m\u001b[1;33m]\u001b[0m\u001b[1;33m,\u001b[0m\u001b[0;31m\\\u001b[0m\u001b[1;33m\u001b[0m\u001b[1;33m\u001b[0m\u001b[0m\n",
      "\u001b[1;31mKeyError\u001b[0m: 'modal_split_car'"
     ]
    }
   ],
   "source": [
    "streetGridToFile(streets)"
   ]
  },
  {
   "cell_type": "markdown",
   "execution_count": null,
   "metadata": {},
   "outputs": [],
   "source": [
    "## Reading in saved streetgrid file"
   ]
  },
  {
   "cell_type": "code",
   "execution_count": null,
   "metadata": {},
   "outputs": [],
   "source": [
    "def loadStreetsFile():\n",
    "    path = ''\n",
    "    with open(path + 'open_street_with_modalities.json', 'r') as json_file:\n",
    "        streets = json.load(json_file)\n",
    "    return streets"
   ]
  },
  {
   "cell_type": "markdown",
   "execution_count": null,
   "metadata": {},
   "outputs": [],
   "source": [
    "## Reading in metadatafiles from data"
   ]
  },
  {
   "cell_type": "code",
   "execution_count": 15,
   "metadata": {},
   "outputs": [],
   "source": [
    "#reference files\n",
    "import pandas as pd\n",
    "import shapely\n",
    "from shapely.geometry import shape, Point, GeometryCollection, MultiLineString, MultiPolygon\n",
    "from shapely.ops import split\n",
    "import shapely.wkt\n",
    "import json\n",
    "import geopandas as gpd\n",
    "\n",
    "#print(shapely.__version__)\n",
    "\n",
    "path = 'data_januari_2020/'\n",
    "\n",
    "df = pd.read_csv(path + 'proximus/proximus_ref.csv')\n",
    "\n",
    "df['locationrange'] = df['locationrange'].apply(lambda x : shape(json.loads(x)).buffer(0))\n",
    "gdf_proximus_ref = gpd.GeoDataFrame(df, geometry='locationrange')\n",
    "\n",
    "df = pd.read_csv(path + 'citymesh/citymesh_ref.csv')\n",
    "df['locationrange'] = df['locationrange'].apply(lambda x : shapely.wkt.loads(x))\n",
    "gdf_citymesh_ref = gpd.GeoDataFrame(df, geometry='locationrange')\n"
   ]
  },
  {
   "cell_type": "code",
   "execution_count": 16,
   "metadata": {},
   "outputs": [
    {
     "data": {
      "text/html": "<div>\n<style scoped>\n    .dataframe tbody tr th:only-of-type {\n        vertical-align: middle;\n    }\n\n    .dataframe tbody tr th {\n        vertical-align: top;\n    }\n\n    .dataframe thead th {\n        text-align: right;\n    }\n</style>\n<table border=\"1\" class=\"dataframe\">\n  <thead>\n    <tr style=\"text-align: right;\">\n      <th></th>\n      <th>Unnamed: 0</th>\n      <th>locationid</th>\n      <th>locationrange</th>\n      <th>data_source</th>\n    </tr>\n  </thead>\n  <tbody>\n    <tr>\n      <th>0</th>\n      <td>0</td>\n      <td>e4:95:6e:41:6a:ad</td>\n      <td>POLYGON Z ((4.399055863395957 51.2172988955892...</td>\n      <td>citymesh</td>\n    </tr>\n    <tr>\n      <th>1</th>\n      <td>1</td>\n      <td>e4:95:6e:41:6a:f7</td>\n      <td>POLYGON Z ((4.398445417648279 51.2142897748434...</td>\n      <td>citymesh</td>\n    </tr>\n    <tr>\n      <th>2</th>\n      <td>2</td>\n      <td>e4:95:6e:41:6a:ab</td>\n      <td>POLYGON Z ((4.398952348541532 51.2154532551113...</td>\n      <td>citymesh</td>\n    </tr>\n    <tr>\n      <th>3</th>\n      <td>3</td>\n      <td>e4:95:6e:41:6a:7b</td>\n      <td>POLYGON Z ((4.397615883295943 51.2124858944321...</td>\n      <td>citymesh</td>\n    </tr>\n    <tr>\n      <th>4</th>\n      <td>4</td>\n      <td>e4:95:6e:42:e5:9b</td>\n      <td>POLYGON Z ((4.395991231415448 51.2105765240536...</td>\n      <td>citymesh</td>\n    </tr>\n  </tbody>\n</table>\n</div>",
      "text/plain": "   Unnamed: 0         locationid  \\\n0           0  e4:95:6e:41:6a:ad   \n1           1  e4:95:6e:41:6a:f7   \n2           2  e4:95:6e:41:6a:ab   \n3           3  e4:95:6e:41:6a:7b   \n4           4  e4:95:6e:42:e5:9b   \n\n                                       locationrange data_source  \n0  POLYGON Z ((4.399055863395957 51.2172988955892...    citymesh  \n1  POLYGON Z ((4.398445417648279 51.2142897748434...    citymesh  \n2  POLYGON Z ((4.398952348541532 51.2154532551113...    citymesh  \n3  POLYGON Z ((4.397615883295943 51.2124858944321...    citymesh  \n4  POLYGON Z ((4.395991231415448 51.2105765240536...    citymesh  "
     },
     "execution_count": 16,
     "metadata": {},
     "output_type": "execute_result"
    }
   ],
   "source": [
    "gdf_citymesh_ref.head()"
   ]
  },
  {
   "cell_type": "code",
   "execution_count": 17,
   "metadata": {},
   "outputs": [],
   "source": [
    "frames = [gdf_proximus_ref,\n",
    "          gdf_citymesh_ref,\n",
    "          #gdf_ANPR_ref,\n",
    "          #gdf_smart_crossing_ref\n",
    "          #gdf_motion_ref,\n",
    "          #gdf_camera_ref\n",
    "         ]\n",
    "gdf_ref = pd.concat(frames, sort=True)\n",
    "gdf_ref['index'] = gdf_ref[['grid_index', 'locationid']].apply(lambda x: ','.join(x.dropna().astype(str)), axis=1)\n",
    "#gdf_ref['index'] = gdf_ref[['grid_index', 'locationid']].apply(lambda x: ','.join(x.dropna().astype(str)), axis=1)\n",
    "\n",
    "gdf_ref.drop(columns=['grid_index', 'locationid'], inplace=True)\n",
    "#gdf_ref.drop(columns=['Street', 'cell_index', 'locationid', 'direction'], inplace=True)\n",
    "gdf_ref.reset_index(inplace=True)\n",
    "gdf_ref.drop(columns=['Unnamed: 0'], inplace=True)\n",
    "\n",
    "gdf_ref.drop(columns=['level_0'], inplace=True)\n",
    "\n",
    "## calculating area of shape: important for accuracy levels\n",
    "gdf_ref['area'] = gdf_ref['locationrange'].apply(lambda x: x.area)"
   ]
  },
  {
   "cell_type": "code",
   "execution_count": 18,
   "metadata": {},
   "outputs": [
    {
     "data": {
      "text/html": "<div>\n<style scoped>\n    .dataframe tbody tr th:only-of-type {\n        vertical-align: middle;\n    }\n\n    .dataframe tbody tr th {\n        vertical-align: top;\n    }\n\n    .dataframe thead th {\n        text-align: right;\n    }\n</style>\n<table border=\"1\" class=\"dataframe\">\n  <thead>\n    <tr style=\"text-align: right;\">\n      <th></th>\n      <th>data_source</th>\n      <th>locationrange</th>\n      <th>opSchelde</th>\n      <th>index</th>\n      <th>area</th>\n    </tr>\n  </thead>\n  <tbody>\n    <tr>\n      <th>0</th>\n      <td>proximus</td>\n      <td>POLYGON ((4.36259122 51.18033983, 4.36231676 5...</td>\n      <td>False</td>\n      <td>250mE392725N313400</td>\n      <td>0.000008</td>\n    </tr>\n    <tr>\n      <th>1</th>\n      <td>proximus</td>\n      <td>POLYGON ((4.36231676 51.1825793, 4.36204227 51...</td>\n      <td>False</td>\n      <td>250mE392725N313425</td>\n      <td>0.000008</td>\n    </tr>\n    <tr>\n      <th>2</th>\n      <td>proximus</td>\n      <td>POLYGON ((4.36615753 51.18051296, 4.36588325 5...</td>\n      <td>False</td>\n      <td>250mE392750N313400</td>\n      <td>0.000008</td>\n    </tr>\n    <tr>\n      <th>3</th>\n      <td>proximus</td>\n      <td>POLYGON ((4.36972387 51.18068597, 4.36944976 5...</td>\n      <td>False</td>\n      <td>250mE392775N313400</td>\n      <td>0.000008</td>\n    </tr>\n    <tr>\n      <th>4</th>\n      <td>proximus</td>\n      <td>POLYGON ((4.36588325 51.18275243, 4.36560893 5...</td>\n      <td>False</td>\n      <td>250mE392750N313425</td>\n      <td>0.000008</td>\n    </tr>\n    <tr>\n      <th>5</th>\n      <td>proximus</td>\n      <td>POLYGON ((4.36944976 51.18292546, 4.36917561 5...</td>\n      <td>False</td>\n      <td>250mE392775N313425</td>\n      <td>0.000008</td>\n    </tr>\n    <tr>\n      <th>6</th>\n      <td>proximus</td>\n      <td>POLYGON ((4.36204227 51.18481876, 4.36176774 5...</td>\n      <td>False</td>\n      <td>250mE392725N313450</td>\n      <td>0.000008</td>\n    </tr>\n    <tr>\n      <th>7</th>\n      <td>proximus</td>\n      <td>POLYGON ((4.36176774 51.18705822, 4.36149318 5...</td>\n      <td>False</td>\n      <td>250mE392725N313475</td>\n      <td>0.000008</td>\n    </tr>\n    <tr>\n      <th>8</th>\n      <td>proximus</td>\n      <td>POLYGON ((4.36149318 51.18929768, 4.36121859 5...</td>\n      <td>False</td>\n      <td>250mE392725N313500</td>\n      <td>0.000008</td>\n    </tr>\n    <tr>\n      <th>9</th>\n      <td>proximus</td>\n      <td>POLYGON ((4.36533457 51.18723138, 4.36506019 5...</td>\n      <td>False</td>\n      <td>250mE392750N313475</td>\n      <td>0.000008</td>\n    </tr>\n    <tr>\n      <th>10</th>\n      <td>proximus</td>\n      <td>POLYGON ((4.36506019 51.18947085, 4.36478577 5...</td>\n      <td>False</td>\n      <td>250mE392750N313500</td>\n      <td>0.000008</td>\n    </tr>\n    <tr>\n      <th>11</th>\n      <td>proximus</td>\n      <td>POLYGON ((4.36560893 51.18499191, 4.36533457 5...</td>\n      <td>False</td>\n      <td>250mE392750N313450</td>\n      <td>0.000008</td>\n    </tr>\n    <tr>\n      <th>12</th>\n      <td>proximus</td>\n      <td>POLYGON ((4.36917561 51.18516494, 4.36890143 5...</td>\n      <td>False</td>\n      <td>250mE392775N313450</td>\n      <td>0.000008</td>\n    </tr>\n    <tr>\n      <th>13</th>\n      <td>proximus</td>\n      <td>POLYGON ((4.36890143 51.18740442, 4.36862721 5...</td>\n      <td>False</td>\n      <td>250mE392775N313475</td>\n      <td>0.000008</td>\n    </tr>\n    <tr>\n      <th>14</th>\n      <td>proximus</td>\n      <td>POLYGON ((4.36121859 51.19153714, 4.36094397 5...</td>\n      <td>False</td>\n      <td>250mE392725N313525</td>\n      <td>0.000008</td>\n    </tr>\n    <tr>\n      <th>15</th>\n      <td>proximus</td>\n      <td>POLYGON ((4.36478577 51.19171032, 4.36451131 5...</td>\n      <td>False</td>\n      <td>250mE392750N313525</td>\n      <td>0.000008</td>\n    </tr>\n    <tr>\n      <th>16</th>\n      <td>proximus</td>\n      <td>POLYGON ((4.36094397 51.1937766, 4.36066931 51...</td>\n      <td>False</td>\n      <td>250mE392725N313550</td>\n      <td>0.000008</td>\n    </tr>\n    <tr>\n      <th>17</th>\n      <td>proximus</td>\n      <td>POLYGON ((4.36451131 51.19394978, 4.36423683 5...</td>\n      <td>False</td>\n      <td>250mE392750N313550</td>\n      <td>0.000008</td>\n    </tr>\n    <tr>\n      <th>18</th>\n      <td>proximus</td>\n      <td>POLYGON ((4.36862721 51.1896439, 4.36835296 51...</td>\n      <td>False</td>\n      <td>250mE392775N313500</td>\n      <td>0.000008</td>\n    </tr>\n    <tr>\n      <th>19</th>\n      <td>proximus</td>\n      <td>POLYGON ((4.36835296 51.19188338, 4.36807868 5...</td>\n      <td>False</td>\n      <td>250mE392775N313525</td>\n      <td>0.000008</td>\n    </tr>\n    <tr>\n      <th>20</th>\n      <td>proximus</td>\n      <td>POLYGON ((4.36807868 51.19412286, 4.36780437 5...</td>\n      <td>False</td>\n      <td>250mE392775N313550</td>\n      <td>0.000008</td>\n    </tr>\n    <tr>\n      <th>21</th>\n      <td>proximus</td>\n      <td>POLYGON ((4.37329024 51.18085888, 4.37301629 5...</td>\n      <td>False</td>\n      <td>250mE392800N313400</td>\n      <td>0.000008</td>\n    </tr>\n    <tr>\n      <th>22</th>\n      <td>proximus</td>\n      <td>POLYGON ((4.37301629 51.18309838, 4.37274231 5...</td>\n      <td>False</td>\n      <td>250mE392800N313425</td>\n      <td>0.000008</td>\n    </tr>\n    <tr>\n      <th>23</th>\n      <td>proximus</td>\n      <td>POLYGON ((4.37685662 51.18103168, 4.37658285 5...</td>\n      <td>False</td>\n      <td>250mE392825N313400</td>\n      <td>0.000008</td>\n    </tr>\n    <tr>\n      <th>24</th>\n      <td>proximus</td>\n      <td>POLYGON ((4.38042303 51.18120437, 4.38014943 5...</td>\n      <td>False</td>\n      <td>250mE392850N313400</td>\n      <td>0.000008</td>\n    </tr>\n    <tr>\n      <th>25</th>\n      <td>proximus</td>\n      <td>POLYGON ((4.37658285 51.18327119, 4.37630904 5...</td>\n      <td>False</td>\n      <td>250mE392825N313425</td>\n      <td>0.000008</td>\n    </tr>\n    <tr>\n      <th>26</th>\n      <td>proximus</td>\n      <td>POLYGON ((4.38014943 51.18344389, 4.3798758 51...</td>\n      <td>False</td>\n      <td>250mE392850N313425</td>\n      <td>0.000008</td>\n    </tr>\n    <tr>\n      <th>27</th>\n      <td>proximus</td>\n      <td>POLYGON ((4.38398947 51.18137695, 4.38371604 5...</td>\n      <td>False</td>\n      <td>250mE392875N313400</td>\n      <td>0.000008</td>\n    </tr>\n    <tr>\n      <th>28</th>\n      <td>proximus</td>\n      <td>POLYGON ((4.38371604 51.18361648, 4.38344258 5...</td>\n      <td>False</td>\n      <td>250mE392875N313425</td>\n      <td>0.000008</td>\n    </tr>\n    <tr>\n      <th>29</th>\n      <td>proximus</td>\n      <td>POLYGON ((4.38728267 51.18378896, 4.38700939 5...</td>\n      <td>False</td>\n      <td>250mE392900N313425</td>\n      <td>0.000008</td>\n    </tr>\n    <tr>\n      <th>...</th>\n      <td>...</td>\n      <td>...</td>\n      <td>...</td>\n      <td>...</td>\n      <td>...</td>\n    </tr>\n    <tr>\n      <th>809</th>\n      <td>proximus</td>\n      <td>POLYGON ((4.46830902 51.22597137, 4.46803931 5...</td>\n      <td>False</td>\n      <td>250mE393500N313850</td>\n      <td>0.000008</td>\n    </tr>\n    <tr>\n      <th>810</th>\n      <td>proximus</td>\n      <td>POLYGON ((4.47295703 51.21718231, 4.47268762 5...</td>\n      <td>False</td>\n      <td>250mE393525N313750</td>\n      <td>0.000008</td>\n    </tr>\n    <tr>\n      <th>811</th>\n      <td>proximus</td>\n      <td>POLYGON ((4.47268762 51.21942205, 4.47241817 5...</td>\n      <td>False</td>\n      <td>250mE393525N313775</td>\n      <td>0.000008</td>\n    </tr>\n    <tr>\n      <th>812</th>\n      <td>proximus</td>\n      <td>POLYGON ((4.47241817 51.2216618, 4.4721487 51....</td>\n      <td>False</td>\n      <td>250mE393525N313800</td>\n      <td>0.000008</td>\n    </tr>\n    <tr>\n      <th>813</th>\n      <td>proximus</td>\n      <td>POLYGON ((4.4721487 51.22390154, 4.47187919 51...</td>\n      <td>False</td>\n      <td>250mE393525N313825</td>\n      <td>0.000008</td>\n    </tr>\n    <tr>\n      <th>814</th>\n      <td>proximus</td>\n      <td>POLYGON ((4.47187919 51.22614128, 4.47160965 5...</td>\n      <td>False</td>\n      <td>250mE393525N313850</td>\n      <td>0.000008</td>\n    </tr>\n    <tr>\n      <th>815</th>\n      <td>proximus</td>\n      <td>POLYGON ((4.46062861 51.23011064, 4.46035848 5...</td>\n      <td>False</td>\n      <td>250mE393450N313900</td>\n      <td>0.000008</td>\n    </tr>\n    <tr>\n      <th>816</th>\n      <td>proximus</td>\n      <td>POLYGON ((4.46419907 51.23028078, 4.46392912 5...</td>\n      <td>False</td>\n      <td>250mE393475N313900</td>\n      <td>0.000008</td>\n    </tr>\n    <tr>\n      <th>817</th>\n      <td>proximus</td>\n      <td>POLYGON ((4.46035848 51.23235034, 4.46008833 5...</td>\n      <td>False</td>\n      <td>250mE393450N313925</td>\n      <td>0.000008</td>\n    </tr>\n    <tr>\n      <th>818</th>\n      <td>proximus</td>\n      <td>POLYGON ((4.46392912 51.2325205, 4.46365914 51...</td>\n      <td>False</td>\n      <td>250mE393475N313925</td>\n      <td>0.000008</td>\n    </tr>\n    <tr>\n      <th>819</th>\n      <td>proximus</td>\n      <td>POLYGON ((4.46803931 51.2282111, 4.46776956 51...</td>\n      <td>False</td>\n      <td>250mE393500N313875</td>\n      <td>0.000008</td>\n    </tr>\n    <tr>\n      <th>820</th>\n      <td>proximus</td>\n      <td>POLYGON ((4.46776956 51.23045082, 4.46749978 5...</td>\n      <td>False</td>\n      <td>250mE393500N313900</td>\n      <td>0.000008</td>\n    </tr>\n    <tr>\n      <th>821</th>\n      <td>proximus</td>\n      <td>POLYGON ((4.46749978 51.23269055, 4.46722997 5...</td>\n      <td>False</td>\n      <td>250mE393500N313925</td>\n      <td>0.000008</td>\n    </tr>\n    <tr>\n      <th>822</th>\n      <td>proximus</td>\n      <td>POLYGON ((4.46008833 51.23459005, 4.45981814 5...</td>\n      <td>False</td>\n      <td>250mE393450N313950</td>\n      <td>0.000008</td>\n    </tr>\n    <tr>\n      <th>823</th>\n      <td>proximus</td>\n      <td>POLYGON ((4.46365914 51.23476021, 4.46338912 5...</td>\n      <td>False</td>\n      <td>250mE393475N313950</td>\n      <td>0.000008</td>\n    </tr>\n    <tr>\n      <th>824</th>\n      <td>proximus</td>\n      <td>POLYGON ((4.45981814 51.23682975, 4.45954792 5...</td>\n      <td>False</td>\n      <td>250mE393450N313975</td>\n      <td>0.000008</td>\n    </tr>\n    <tr>\n      <th>825</th>\n      <td>proximus</td>\n      <td>POLYGON ((4.46338912 51.23699992, 4.46311907 5...</td>\n      <td>False</td>\n      <td>250mE393475N313975</td>\n      <td>0.000008</td>\n    </tr>\n    <tr>\n      <th>826</th>\n      <td>proximus</td>\n      <td>POLYGON ((4.46722997 51.23493027, 4.46696013 5...</td>\n      <td>False</td>\n      <td>250mE393500N313950</td>\n      <td>0.000008</td>\n    </tr>\n    <tr>\n      <th>827</th>\n      <td>proximus</td>\n      <td>POLYGON ((4.46696013 51.23716999, 4.46669025 5...</td>\n      <td>False</td>\n      <td>250mE393500N313975</td>\n      <td>0.000008</td>\n    </tr>\n    <tr>\n      <th>828</th>\n      <td>proximus</td>\n      <td>POLYGON ((4.47160965 51.22838101, 4.47134007 5...</td>\n      <td>False</td>\n      <td>250mE393525N313875</td>\n      <td>0.000008</td>\n    </tr>\n    <tr>\n      <th>829</th>\n      <td>proximus</td>\n      <td>POLYGON ((4.47134007 51.23062075, 4.47107047 5...</td>\n      <td>False</td>\n      <td>250mE393525N313900</td>\n      <td>0.000008</td>\n    </tr>\n    <tr>\n      <th>830</th>\n      <td>proximus</td>\n      <td>POLYGON ((4.47107047 51.23286048, 4.47080083 5...</td>\n      <td>False</td>\n      <td>250mE393525N313925</td>\n      <td>0.000008</td>\n    </tr>\n    <tr>\n      <th>831</th>\n      <td>proximus</td>\n      <td>POLYGON ((4.47080083 51.23510021, 4.47053116 5...</td>\n      <td>False</td>\n      <td>250mE393525N313950</td>\n      <td>0.000008</td>\n    </tr>\n    <tr>\n      <th>832</th>\n      <td>proximus</td>\n      <td>POLYGON ((4.47053116 51.23733994, 4.47026145 5...</td>\n      <td>False</td>\n      <td>250mE393525N313975</td>\n      <td>0.000008</td>\n    </tr>\n    <tr>\n      <th>833</th>\n      <td>citymesh</td>\n      <td>POLYGON Z ((4.399055863395957 51.2172988955892...</td>\n      <td>NaN</td>\n      <td>e4:95:6e:41:6a:ad</td>\n      <td>0.000002</td>\n    </tr>\n    <tr>\n      <th>834</th>\n      <td>citymesh</td>\n      <td>POLYGON Z ((4.398445417648279 51.2142897748434...</td>\n      <td>NaN</td>\n      <td>e4:95:6e:41:6a:f7</td>\n      <td>0.000002</td>\n    </tr>\n    <tr>\n      <th>835</th>\n      <td>citymesh</td>\n      <td>POLYGON Z ((4.398952348541532 51.2154532551113...</td>\n      <td>NaN</td>\n      <td>e4:95:6e:41:6a:ab</td>\n      <td>0.000002</td>\n    </tr>\n    <tr>\n      <th>836</th>\n      <td>citymesh</td>\n      <td>POLYGON Z ((4.397615883295943 51.2124858944321...</td>\n      <td>NaN</td>\n      <td>e4:95:6e:41:6a:7b</td>\n      <td>0.000002</td>\n    </tr>\n    <tr>\n      <th>837</th>\n      <td>citymesh</td>\n      <td>POLYGON Z ((4.395991231415448 51.2105765240536...</td>\n      <td>NaN</td>\n      <td>e4:95:6e:42:e5:9b</td>\n      <td>0.000002</td>\n    </tr>\n    <tr>\n      <th>838</th>\n      <td>citymesh</td>\n      <td>POLYGON Z ((4.39694072095085 51.21718119571673...</td>\n      <td>NaN</td>\n      <td>e4:95:6e:42:e5:5e</td>\n      <td>0.000002</td>\n    </tr>\n  </tbody>\n</table>\n<p>839 rows × 5 columns</p>\n</div>",
      "text/plain": "    data_source                                      locationrange opSchelde  \\\n0      proximus  POLYGON ((4.36259122 51.18033983, 4.36231676 5...     False   \n1      proximus  POLYGON ((4.36231676 51.1825793, 4.36204227 51...     False   \n2      proximus  POLYGON ((4.36615753 51.18051296, 4.36588325 5...     False   \n3      proximus  POLYGON ((4.36972387 51.18068597, 4.36944976 5...     False   \n4      proximus  POLYGON ((4.36588325 51.18275243, 4.36560893 5...     False   \n5      proximus  POLYGON ((4.36944976 51.18292546, 4.36917561 5...     False   \n6      proximus  POLYGON ((4.36204227 51.18481876, 4.36176774 5...     False   \n7      proximus  POLYGON ((4.36176774 51.18705822, 4.36149318 5...     False   \n8      proximus  POLYGON ((4.36149318 51.18929768, 4.36121859 5...     False   \n9      proximus  POLYGON ((4.36533457 51.18723138, 4.36506019 5...     False   \n10     proximus  POLYGON ((4.36506019 51.18947085, 4.36478577 5...     False   \n11     proximus  POLYGON ((4.36560893 51.18499191, 4.36533457 5...     False   \n12     proximus  POLYGON ((4.36917561 51.18516494, 4.36890143 5...     False   \n13     proximus  POLYGON ((4.36890143 51.18740442, 4.36862721 5...     False   \n14     proximus  POLYGON ((4.36121859 51.19153714, 4.36094397 5...     False   \n15     proximus  POLYGON ((4.36478577 51.19171032, 4.36451131 5...     False   \n16     proximus  POLYGON ((4.36094397 51.1937766, 4.36066931 51...     False   \n17     proximus  POLYGON ((4.36451131 51.19394978, 4.36423683 5...     False   \n18     proximus  POLYGON ((4.36862721 51.1896439, 4.36835296 51...     False   \n19     proximus  POLYGON ((4.36835296 51.19188338, 4.36807868 5...     False   \n20     proximus  POLYGON ((4.36807868 51.19412286, 4.36780437 5...     False   \n21     proximus  POLYGON ((4.37329024 51.18085888, 4.37301629 5...     False   \n22     proximus  POLYGON ((4.37301629 51.18309838, 4.37274231 5...     False   \n23     proximus  POLYGON ((4.37685662 51.18103168, 4.37658285 5...     False   \n24     proximus  POLYGON ((4.38042303 51.18120437, 4.38014943 5...     False   \n25     proximus  POLYGON ((4.37658285 51.18327119, 4.37630904 5...     False   \n26     proximus  POLYGON ((4.38014943 51.18344389, 4.3798758 51...     False   \n27     proximus  POLYGON ((4.38398947 51.18137695, 4.38371604 5...     False   \n28     proximus  POLYGON ((4.38371604 51.18361648, 4.38344258 5...     False   \n29     proximus  POLYGON ((4.38728267 51.18378896, 4.38700939 5...     False   \n..          ...                                                ...       ...   \n809    proximus  POLYGON ((4.46830902 51.22597137, 4.46803931 5...     False   \n810    proximus  POLYGON ((4.47295703 51.21718231, 4.47268762 5...     False   \n811    proximus  POLYGON ((4.47268762 51.21942205, 4.47241817 5...     False   \n812    proximus  POLYGON ((4.47241817 51.2216618, 4.4721487 51....     False   \n813    proximus  POLYGON ((4.4721487 51.22390154, 4.47187919 51...     False   \n814    proximus  POLYGON ((4.47187919 51.22614128, 4.47160965 5...     False   \n815    proximus  POLYGON ((4.46062861 51.23011064, 4.46035848 5...     False   \n816    proximus  POLYGON ((4.46419907 51.23028078, 4.46392912 5...     False   \n817    proximus  POLYGON ((4.46035848 51.23235034, 4.46008833 5...     False   \n818    proximus  POLYGON ((4.46392912 51.2325205, 4.46365914 51...     False   \n819    proximus  POLYGON ((4.46803931 51.2282111, 4.46776956 51...     False   \n820    proximus  POLYGON ((4.46776956 51.23045082, 4.46749978 5...     False   \n821    proximus  POLYGON ((4.46749978 51.23269055, 4.46722997 5...     False   \n822    proximus  POLYGON ((4.46008833 51.23459005, 4.45981814 5...     False   \n823    proximus  POLYGON ((4.46365914 51.23476021, 4.46338912 5...     False   \n824    proximus  POLYGON ((4.45981814 51.23682975, 4.45954792 5...     False   \n825    proximus  POLYGON ((4.46338912 51.23699992, 4.46311907 5...     False   \n826    proximus  POLYGON ((4.46722997 51.23493027, 4.46696013 5...     False   \n827    proximus  POLYGON ((4.46696013 51.23716999, 4.46669025 5...     False   \n828    proximus  POLYGON ((4.47160965 51.22838101, 4.47134007 5...     False   \n829    proximus  POLYGON ((4.47134007 51.23062075, 4.47107047 5...     False   \n830    proximus  POLYGON ((4.47107047 51.23286048, 4.47080083 5...     False   \n831    proximus  POLYGON ((4.47080083 51.23510021, 4.47053116 5...     False   \n832    proximus  POLYGON ((4.47053116 51.23733994, 4.47026145 5...     False   \n833    citymesh  POLYGON Z ((4.399055863395957 51.2172988955892...       NaN   \n834    citymesh  POLYGON Z ((4.398445417648279 51.2142897748434...       NaN   \n835    citymesh  POLYGON Z ((4.398952348541532 51.2154532551113...       NaN   \n836    citymesh  POLYGON Z ((4.397615883295943 51.2124858944321...       NaN   \n837    citymesh  POLYGON Z ((4.395991231415448 51.2105765240536...       NaN   \n838    citymesh  POLYGON Z ((4.39694072095085 51.21718119571673...       NaN   \n\n                  index      area  \n0    250mE392725N313400  0.000008  \n1    250mE392725N313425  0.000008  \n2    250mE392750N313400  0.000008  \n3    250mE392775N313400  0.000008  \n4    250mE392750N313425  0.000008  \n5    250mE392775N313425  0.000008  \n6    250mE392725N313450  0.000008  \n7    250mE392725N313475  0.000008  \n8    250mE392725N313500  0.000008  \n9    250mE392750N313475  0.000008  \n10   250mE392750N313500  0.000008  \n11   250mE392750N313450  0.000008  \n12   250mE392775N313450  0.000008  \n13   250mE392775N313475  0.000008  \n14   250mE392725N313525  0.000008  \n15   250mE392750N313525  0.000008  \n16   250mE392725N313550  0.000008  \n17   250mE392750N313550  0.000008  \n18   250mE392775N313500  0.000008  \n19   250mE392775N313525  0.000008  \n20   250mE392775N313550  0.000008  \n21   250mE392800N313400  0.000008  \n22   250mE392800N313425  0.000008  \n23   250mE392825N313400  0.000008  \n24   250mE392850N313400  0.000008  \n25   250mE392825N313425  0.000008  \n26   250mE392850N313425  0.000008  \n27   250mE392875N313400  0.000008  \n28   250mE392875N313425  0.000008  \n29   250mE392900N313425  0.000008  \n..                  ...       ...  \n809  250mE393500N313850  0.000008  \n810  250mE393525N313750  0.000008  \n811  250mE393525N313775  0.000008  \n812  250mE393525N313800  0.000008  \n813  250mE393525N313825  0.000008  \n814  250mE393525N313850  0.000008  \n815  250mE393450N313900  0.000008  \n816  250mE393475N313900  0.000008  \n817  250mE393450N313925  0.000008  \n818  250mE393475N313925  0.000008  \n819  250mE393500N313875  0.000008  \n820  250mE393500N313900  0.000008  \n821  250mE393500N313925  0.000008  \n822  250mE393450N313950  0.000008  \n823  250mE393475N313950  0.000008  \n824  250mE393450N313975  0.000008  \n825  250mE393475N313975  0.000008  \n826  250mE393500N313950  0.000008  \n827  250mE393500N313975  0.000008  \n828  250mE393525N313875  0.000008  \n829  250mE393525N313900  0.000008  \n830  250mE393525N313925  0.000008  \n831  250mE393525N313950  0.000008  \n832  250mE393525N313975  0.000008  \n833   e4:95:6e:41:6a:ad  0.000002  \n834   e4:95:6e:41:6a:f7  0.000002  \n835   e4:95:6e:41:6a:ab  0.000002  \n836   e4:95:6e:41:6a:7b  0.000002  \n837   e4:95:6e:42:e5:9b  0.000002  \n838   e4:95:6e:42:e5:5e  0.000002  \n\n[839 rows x 5 columns]"
     },
     "execution_count": 18,
     "metadata": {},
     "output_type": "execute_result"
    }
   ],
   "source": [
    "gdf_ref.head(900)"
   ]
  },
  {
   "cell_type": "markdown",
   "execution_count": null,
   "metadata": {},
   "outputs": [],
   "source": [
    "## actual street cutting\n",
    "With streets and gdf_locations in memory, we can calculate"
   ]
  },
  {
   "cell_type": "code",
   "execution_count": 19,
   "metadata": {},
   "outputs": [],
   "source": [
    "def calculateItemsLocation(gdf_ref, js_street):\n",
    "\n",
    "    street_cuts = pd.DataFrame(columns=['street_objectid', 'street_geometry','street_length', \n",
    "                                        'street_segment_id', 'street_segment_geometry', 'street_segment_length',\n",
    "                                        'data_source','data_source_index','data_source_ref_polygon', 'data_source_ref_polygon_area'])\n",
    "\n",
    "    # cutting shapes\n",
    "    polylist = list(map(lambda i: gdf_ref['locationrange'][i], range(0,len(gdf_ref))))\n",
    "    polygons = MultiPolygon(polylist)\n",
    "\n",
    "    global_area = polygons.convex_hull\n",
    "\n",
    "    for street in js_street:\n",
    "        street_shapefile = shape(street[\"geometryGPS\"])\n",
    "        splits = list(split(street_shapefile, polygons)) #split is actual shapely command to split the street according to the locationranges of data sources\n",
    "        for street_segment in splits:\n",
    "            i = 0\n",
    "            for index, rows in gdf_ref.iterrows():\n",
    "                if (rows['locationrange'].buffer(0.00001)).contains(street_segment):\n",
    "                    #entry maken in tabel !!\n",
    "                    street_cuts = street_cuts.append({'street_objectid': street['originalId'],\n",
    "                                        'street_geometry': street_shapefile,\n",
    "                                        'street_length': street['SHAPE_Length'],\n",
    "                                        'street_segment_id': splits.index(street_segment),\n",
    "                                        #'street_segment_source_id': i,\n",
    "                                        'street_segment_geometry': street_segment,\n",
    "                                        'street_segment_length': street_segment.length / street_shapefile.length * street['SHAPE_Length'],\n",
    "                                        'data_source': rows['data_source'],\n",
    "                                        'data_source_index': rows['index'],\n",
    "                                        'data_source_ref_polygon': rows['locationrange'],\n",
    "                                        'data_source_ref_polygon_area': rows['area'],\n",
    "                                        'street_segment_source_id': (str(street['originalId']) + \" - \" \n",
    "                                                                + str(splits.index(street_segment)) + \" - \" +\n",
    "                                                                str(rows['index']))}, ignore_index=True)\n",
    "\n",
    "                    i += 1\n",
    "    return [street_cuts, polylist]"
   ]
  },
  {
   "cell_type": "code",
   "execution_count": 20,
   "metadata": {},
   "outputs": [],
   "source": [
    "def timeit_wrapper(func):\n",
    "    import time\n",
    "    #@wraps(func)\n",
    "    def wrapper(*args, **kwargs):\n",
    "        start = time.perf_counter()  # Alternatively, you can use time.process_time()\n",
    "        func_return_val = func(*args, **kwargs)\n",
    "        end = time.perf_counter()\n",
    "        print('{0:<10}.{1:<8} : {2:<8}'.format(func.__module__, func.__name__, end - start))\n",
    "        return func_return_val\n",
    "    return wrapper"
   ]
  },
  {
   "cell_type": "code",
   "execution_count": 21,
   "metadata": {},
   "outputs": [],
   "source": [
    "street_cuts, polylist = timeit_wrapper(calculateItemsLocation)(gdf_ref, streets)"
   ]
  },
  {
   "cell_type": "code",
   "execution_count": null,
   "metadata": {},
   "outputs": [],
   "source": [
    "#street_objectid - street_segment_id - data_source_index\n",
    "len(street_cuts['data_source_index'].unique())\n",
    "len(gdf_ref['index'].unique())"
   ]
  },
  {
   "cell_type": "markdown",
   "execution_count": null,
   "metadata": {},
   "outputs": [],
   "source": [
    "### Faulty sensors (where there are no streets)\n",
    "In the next piece of code we are looking for locationranges that never meet a street and as such, potentially kill the linear model."
   ]
  },
  {
   "cell_type": "code",
   "execution_count": null,
   "metadata": {},
   "outputs": [],
   "source": [
    "def Diff(li1, li2): \n",
    "    return (list(set(li1) - set(li2)))\n",
    "\n",
    "def sensorsWithoutStreets(gdf_ref, js_street):\n",
    "    polylist = list(map(lambda i: gdf_ref['locationrange'][i], range(0,len(gdf_ref))))\n",
    "    listOfSensorsWithStreets = []\n",
    "    for poly in polylist:\n",
    "        hasCutStreet = False\n",
    "        for street in js_street:\n",
    "            street_shapefile = shape(street[\"geometryGPS\"])\n",
    "            street_shapefile.intersects(poly)\n",
    "            if (street_shapefile.intersects(poly)):\n",
    "                hasCutStreet = True\n",
    "                #index zoeken\n",
    "                index = gdf_ref['index'][polylist.index(poly)]\n",
    "                listOfSensorsWithStreets.append(index)\n",
    "                break\n",
    "            else:\n",
    "                continue\n",
    "\n",
    "    sensorsList = list(map(lambda i: gdf_ref['index'][i], range(0,len(gdf_ref))))\n",
    "    listOfSensorsWithoutStreets = Diff(sensorsList, listOfSensorsWithStreets)\n",
    "    return listOfSensorsWithoutStreets"
   ]
  },
  {
   "cell_type": "code",
   "execution_count": null,
   "metadata": {},
   "outputs": [],
   "source": [
    "listOfSensorsWithoutStreets = sensorsWithoutStreets(gdf_ref, streets)\n",
    "df_faulty_sensors = pd.DataFrame(columns=['index'])\n",
    "path = 'output_cleansing_script/'\n",
    "df_faulty_sensors.to_csv(path + 'locations_with_no_streets.csv')"
   ]
  },
  {
   "cell_type": "code",
   "execution_count": null,
   "metadata": {},
   "outputs": [],
   "source": [
    "path = 'output_cleansing_script/'\n",
    "street_cuts.to_csv(path + 'expanded_grid_street_segments.csv')"
   ]
  },
  {
   "cell_type": "markdown",
   "execution_count": null,
   "metadata": {},
   "outputs": [],
   "source": [
    "## Calculating intersections\n",
    "This method should be integrated with the cutting of the streets"
   ]
  },
  {
   "cell_type": "code",
   "execution_count": null,
   "metadata": {},
   "outputs": [],
   "source": [
    "#calculating intersections between sets of streets/ Returns a dataframe containing all relevant information\n",
    "#inputs: street network in json format\n",
    "#outputs: intersection dataframe\n",
    "def getIntersections_json(jsonfile):\n",
    "    \n",
    "    street_list = list(filter(lambda x: not(x['properties']['isSquare']),jsonfile)) #filter out not-streets\n",
    "    \n",
    "    intersections = pd.DataFrame(columns=['intersection_id', 'object_id', 'street_segment_source_id', 'street_segment_end'])\n",
    "    intersection_counter = 0\n",
    "    #intersection_list = [{'intersection_id':0, 'intersection_geo':None}]\n",
    "    intersection_list = [] #empty list of known intersections to start with\n",
    "\n",
    "    #street_list = list(filter(lambda x: not(x['properties']['isSquare']),js_street))\n",
    "    for street1 in street_list:\n",
    "        try: \n",
    "            print('street selected: ' + street1['left']['name']  + ' ' +  str(street1['originalId']))\n",
    "        except:\n",
    "            pass\n",
    "        #shape_street1 = shape(street1['geometry']).buffer(0.00001)\n",
    "        shape_street1 = [shape(street1['geometryGPS']).boundary[0].buffer(0.00001), shape(street1['geometryGPS']).boundary[1].buffer(0.00001)]\n",
    "\n",
    "        for j in range(0,2):\n",
    "            #each segment has 2 edges\n",
    "\n",
    "            #check if these edges lie in an existing intersection\n",
    "            knownIntersection = False\n",
    "            for i in range(0,len(intersection_list)):\n",
    "                if (intersection_list[i]['intersection_geo'].intersects(shape_street1[j])):\n",
    "                    knownIntersection = True\n",
    "\n",
    "            #search in all the unused intersections, following streets, if they lie on this intersection\n",
    "            if (not(knownIntersection)):\n",
    "                for street2 in street_list[street_list.index(street1)+1:]:\n",
    "                    shape_street2 = shape(street2['geometryGPS'])\n",
    "                    #if a match occurs, note the streets in the dataframe and the intersection on the list of known intersections\n",
    "                    if shape_street1[j].contains(shape_street2.boundary[0]):\n",
    "                        intersections = intersections.append({'intersection_id':intersection_counter, 'street_segment_end':j,\n",
    "                                                              'object_id':street1['originalId']},ignore_index=True)\n",
    "                        intersections = intersections.append({'intersection_id':intersection_counter, 'street_segment_end':0,\n",
    "                                                              'object_id':street2['originalId']},ignore_index=True)\n",
    "                        intersection_list.append({'intersection_id':intersection_counter, 'intersection_geo':shape_street1[j]})\n",
    "                        try:\n",
    "                            print('   Side: ' + str(j) + street2['left']['name'] + ' ' +  str(street2['originalId']))\n",
    "                        except:\n",
    "                            pass\n",
    "                    elif shape_street1[j].contains(shape_street2.boundary[1]):\n",
    "                        intersections = intersections.append({'intersection_id':intersection_counter, 'street_segment_end':j,\n",
    "                                                              'object_id':street1['originalId']},ignore_index=True)\n",
    "                        intersections = intersections.append({'intersection_id':intersection_counter, 'street_segment_end':1,\n",
    "                                                              'object_id':street2['originalId']},ignore_index=True)\n",
    "                        intersection_list.append({'intersection_id':intersection_counter, 'intersection_geo':shape_street1[j]})\n",
    "                        try:\n",
    "                            print('   Side: ' + str(j) + street2['left']['name'] + ' ' +  str(street2['originalId']))\n",
    "                        except:\n",
    "                            pass\n",
    "                intersection_counter += 1\n",
    "\n",
    "    intersections['intersection_id'] = pd.to_numeric(intersections['intersection_id'], downcast='signed')\n",
    "    intersections['object_id'] = pd.to_numeric(intersections['object_id'], downcast='signed')\n",
    "    intersections['street_segment_source_id'] = pd.to_numeric(intersections['street_segment_source_id'], downcast='signed')\n",
    "    intersections['street_segment_end'] = pd.to_numeric(intersections['street_segment_end'], downcast='signed')\n",
    "    intersections = intersections.drop_duplicates()\n",
    "    return intersections\n",
    "\n",
    "#intersections = getIntersections_json(js_street)"
   ]
  },
  {
   "cell_type": "code",
   "execution_count": null,
   "metadata": {},
   "outputs": [],
   "source": [
    "#calculating intersections between sets of streets/ Returns a dataframe containing all relevant information\n",
    "#inputs: street network in dataframe\n",
    "#outputs: intersection dataframe\n",
    "def getIntersections(df):\n",
    "    import shapely.wkt\n",
    "    from shapely.geometry import shape, Point, GeometryCollection, MultiLineString, MultiPolygon\n",
    "    from shapely.ops import split\n",
    "    #street_list = list(filter(lambda x: not(x['properties']['isSquare']),jsonfile['features'])) #filter out not-streets\n",
    "    #correct initialisation\n",
    "    df = df.reset_index(drop=True)\n",
    "    \n",
    "    tempdf = pd.DataFrame(columns=['geometry', 'intersection_id'])\n",
    "    intersections = pd.DataFrame(columns=['intersection_id', 'object_id', 'street_segment_source_id', 'street_segment_end'])\n",
    "    intersection_counter = 0\n",
    "    intersection_list = [] #empty list of known intersections to start with\n",
    "\n",
    "    #street_list = list(filter(lambda x: not(x['properties']['isSquare']),js_street['features']))\n",
    "    for index1, rows1 in df.iterrows():\n",
    "        if (shapely.wkt.loads(str(rows1['street_segment_geometry'])).geom_type == 'LineString'):\n",
    "            #checken of het een straat is en geen plein!\n",
    "            shape_street1 = [shapely.wkt.loads(str(rows1['street_segment_geometry'])).boundary[0].buffer(0.000001), \n",
    "                             shapely.wkt.loads(str(rows1['street_segment_geometry'])).boundary[1].buffer(0.000001)]\n",
    "            shape_street1_no_buffer = [shapely.wkt.loads(str(rows1['street_segment_geometry'])).boundary[0], \n",
    "                                       shapely.wkt.loads(str(rows1['street_segment_geometry'])).boundary[1]]\n",
    "            #print(shape_street1)\n",
    "            for j in range(0,2):\n",
    "                #each segment has 2 edges\n",
    "\n",
    "                #check if these edges lie in an existing intersection\n",
    "                knownIntersection = False\n",
    "                for i in range(0,len(intersection_list)):\n",
    "                    if (intersection_list[i]['intersection_geo'].intersects(shape_street1_no_buffer[j])):\n",
    "                        knownIntersection = True\n",
    "                #knownIntersection = False\n",
    "                \n",
    "                #search in all the unused intersections, following streets, if they lie on this intersection\n",
    "                if (not(knownIntersection)):\n",
    "                    df2 = df.iloc[index1+1:,:]\n",
    "                    for index2, rows2 in df2.iterrows():\n",
    "                        if (shapely.wkt.loads(str(rows2['street_segment_geometry'])).geom_type == 'LineString'):\n",
    "                            shape_street2 = shapely.wkt.loads(str(rows2['street_segment_geometry']))\n",
    "                            #if a match occurs, note the streets in the dataframe and the intersection on the list of known intersections\n",
    "    \n",
    "                            if shape_street1[j].contains(shape_street2.boundary[0]):\n",
    "                                intersections = intersections.append({'intersection_id':intersection_counter, 'street_segment_end':j,\n",
    "                                                                      'object_id':rows1['street_objectid'], \n",
    "                                                                      'street_segment_source_id':rows1['street_segment_source_id']},\n",
    "                                                                     ignore_index=True)\n",
    "                                intersections = intersections.append({'intersection_id':intersection_counter, 'street_segment_end':0,\n",
    "                                                                      'object_id':rows2['street_objectid'], \n",
    "                                                                      'street_segment_source_id':rows2['street_segment_source_id']},\n",
    "                                                                     ignore_index=True)\n",
    "                                intersection_list.append({'intersection_id':intersection_counter, 'intersection_geo':shape_street1[j]})\n",
    "                                tempdf = tempdf.append({'geometry': shape_street1[j].buffer(0.00005), 'intersection_id': intersection_counter},\n",
    "                                                       ignore_index=True)\n",
    "                                \n",
    "                            elif shape_street1[j].contains(shape_street2.boundary[1]):\n",
    "                                intersections = intersections.append({'intersection_id':intersection_counter, 'street_segment_end':j,\n",
    "                                                                      'object_id':rows1['street_objectid'], \n",
    "                                                                      'street_segment_source_id':rows1['street_segment_source_id']},\n",
    "                                                                     ignore_index=True)\n",
    "                                intersections = intersections.append({'intersection_id':intersection_counter, 'street_segment_end':1,\n",
    "                                                                      'object_id':rows2['street_objectid'], \n",
    "                                                                      'street_segment_source_id':rows2['street_segment_source_id']},\n",
    "                                                                     ignore_index=True)\n",
    "                                intersection_list.append({'intersection_id':intersection_counter, 'intersection_geo':shape_street1[j]})\n",
    "                                tempdf = tempdf.append({'geometry': shape_street1[j].buffer(0.00005), 'intersection_id': intersection_counter},\n",
    "                                                       ignore_index=True)\n",
    "\n",
    "                    intersection_counter += 1\n",
    "\n",
    "    intersections['intersection_id'] = pd.to_numeric(intersections['intersection_id'], downcast='signed')\n",
    "    intersections['object_id'] = pd.to_numeric(intersections['object_id'], downcast='signed')\n",
    "    #intersections['street_segment_source_id'] = pd.to_numeric(intersections['street_segment_source_id'], downcast='signed')\n",
    "    intersections['street_segment_end'] = pd.to_numeric(intersections['street_segment_end'], downcast='signed')\n",
    "    intersections = intersections.drop_duplicates(keep='first')\n",
    "    print('Intersections calculated.')\n",
    "    \n",
    "    #dome debugging output - in stukken zetten (van onder 30 mb)\n",
    "    tempgdf = gpd.GeoDataFrame(tempdf, geometry='geometry')\n",
    "    path = 'output_cleansing_script/'\n",
    "    tempgdf.to_file(path + 'debugging_intersections.geojson', driver='GeoJSON')\n",
    "    \n",
    "    return intersections"
   ]
  },
  {
   "cell_type": "code",
   "execution_count": null,
   "metadata": {},
   "outputs": [],
   "source": [
    "intersections = timeit_wrapper(getIntersections)(street_cuts)\n",
    "#test = str(street_cuts.at[1, 'street_segment_geometry'])\n",
    "#print(test)\n",
    "#shapely.wkt.loads(test)\n",
    "#type(street_cuts)"
   ]
  },
  {
   "cell_type": "code",
   "execution_count": null,
   "metadata": {},
   "outputs": [],
   "source": [
    "path = 'output_cleansing_script/'\n",
    "filename = 'intersections.csv'\n",
    "intersections.to_csv(path+filename)"
   ]
  },
  {
   "cell_type": "code",
   "execution_count": null,
   "metadata": {},
   "outputs": [],
   "source": []
  }
 ],
 "metadata": {
  "kernelspec": {
   "display_name": "Python 3",
   "language": "python",
   "name": "python3"
  },
  "language_info": {
   "codemirror_mode": {
    "name": "ipython",
    "version": 3
   },
   "file_extension": ".py",
   "mimetype": "text/x-python",
   "name": "python",
   "nbconvert_exporter": "python",
   "pygments_lexer": "ipython3",
   "version": "3.7.1-final"
  }
 },
 "nbformat": 4,
 "nbformat_minor": 2
}