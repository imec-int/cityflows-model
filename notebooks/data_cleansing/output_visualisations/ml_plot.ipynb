{
 "cells": [
  {
   "cell_type": "code",
   "execution_count": 1,
   "metadata": {
    "pycharm": {
     "name": "#%%\n"
    }
   },
   "outputs": [],
   "source": [
    "import set_lib_path\n",
    "\n",
    "import geopandas as gpd\n",
    "import os\n",
    "import pandas as pd\n",
    "import shapely\n",
    "\n",
    "from keplergl import KeplerGl"
   ]
  },
  {
   "cell_type": "markdown",
   "metadata": {
    "pycharm": {
     "name": "#%% md\n"
    }
   },
   "source": [
    "# Files paths"
   ]
  },
  {
   "cell_type": "code",
   "execution_count": 2,
   "metadata": {
    "pycharm": {
     "name": "#%%\n"
    }
   },
   "outputs": [],
   "source": [
    "data_path = '../../../data/managed_data_files/mobiele_stad/test_set_LC3_b'\n",
    "\n",
    "streets_path = os.path.join(data_path, 'output/streets.csv')\n",
    "ml_weights_path = os.path.join(data_path, 'input/ml_weights.csv')"
   ]
  },
  {
   "cell_type": "markdown",
   "metadata": {
    "pycharm": {
     "name": "#%% md\n"
    }
   },
   "source": [
    "# Load machine learning results"
   ]
  },
  {
   "cell_type": "code",
   "execution_count": 3,
   "metadata": {
    "pycharm": {
     "name": "#%%\n"
    }
   },
   "outputs": [],
   "source": [
    "ml_weights = pd.read_csv(ml_weights_path, index_col=0).rename(columns={\"WS_OIDN_left\": \"street_object_id\"})"
   ]
  },
  {
   "cell_type": "markdown",
   "metadata": {
    "pycharm": {
     "name": "#%% md\n"
    }
   },
   "source": [
    "# Weights Mapping with Kepler.gl"
   ]
  },
  {
   "cell_type": "code",
   "execution_count": 4,
   "metadata": {
    "pycharm": {
     "name": "#%%\n"
    }
   },
   "outputs": [],
   "source": [
    "streets = pd.read_csv(streets_path)\n",
    "streets['street_object_geometry'] = streets['street_object_geometry'].apply(lambda x : shapely.wkt.loads(x))\n",
    "streets_mapping = streets.set_index('street_object_id')['street_object_geometry']"
   ]
  },
  {
   "cell_type": "code",
   "execution_count": 5,
   "metadata": {
    "pycharm": {
     "name": "#%%\n"
    }
   },
   "outputs": [],
   "source": [
    "ml_weights['geometry'] = ml_weights['street_object_id'].map(streets_mapping)\n",
    "ml_weights = ml_weights.dropna()"
   ]
  },
  {
   "cell_type": "markdown",
   "metadata": {
    "pycharm": {
     "name": "#%% md\n"
    }
   },
   "source": [
    "### applying street geometry to data points"
   ]
  },
  {
   "cell_type": "code",
   "execution_count": 6,
   "metadata": {
    "pycharm": {
     "name": "#%%\n"
    }
   },
   "outputs": [
    {
     "data": {
      "text/html": [
       "<div>\n",
       "<style scoped>\n",
       "    .dataframe tbody tr th:only-of-type {\n",
       "        vertical-align: middle;\n",
       "    }\n",
       "\n",
       "    .dataframe tbody tr th {\n",
       "        vertical-align: top;\n",
       "    }\n",
       "\n",
       "    .dataframe thead th {\n",
       "        text-align: right;\n",
       "    }\n",
       "</style>\n",
       "<table border=\"1\" class=\"dataframe\">\n",
       "  <thead>\n",
       "    <tr style=\"text-align: right;\">\n",
       "      <th></th>\n",
       "      <th>bike</th>\n",
       "      <th>bus</th>\n",
       "      <th>car</th>\n",
       "      <th>truck</th>\n",
       "      <th>van</th>\n",
       "      <th>walk</th>\n",
       "      <th>street_object_id</th>\n",
       "      <th>geometry</th>\n",
       "    </tr>\n",
       "  </thead>\n",
       "  <tbody>\n",
       "    <tr>\n",
       "      <th>120</th>\n",
       "      <td>51.655329</td>\n",
       "      <td>1.791000</td>\n",
       "      <td>74.649722</td>\n",
       "      <td>0.103858</td>\n",
       "      <td>9.450661</td>\n",
       "      <td>91.182524</td>\n",
       "      <td>546425</td>\n",
       "      <td>LINESTRING (4.39981 51.22224, 4.39992 51.22221...</td>\n",
       "    </tr>\n",
       "    <tr>\n",
       "      <th>141</th>\n",
       "      <td>106.000608</td>\n",
       "      <td>5.248702</td>\n",
       "      <td>169.731665</td>\n",
       "      <td>3.189220</td>\n",
       "      <td>28.164432</td>\n",
       "      <td>107.743977</td>\n",
       "      <td>1104219</td>\n",
       "      <td>LINESTRING (4.39804 51.21729, 4.39844 51.21720...</td>\n",
       "    </tr>\n",
       "    <tr>\n",
       "      <th>184</th>\n",
       "      <td>74.909900</td>\n",
       "      <td>2.622111</td>\n",
       "      <td>87.458968</td>\n",
       "      <td>0.445701</td>\n",
       "      <td>11.684267</td>\n",
       "      <td>93.449901</td>\n",
       "      <td>439623</td>\n",
       "      <td>LINESTRING (4.40193 51.21590, 4.40185 51.21589...</td>\n",
       "    </tr>\n",
       "    <tr>\n",
       "      <th>196</th>\n",
       "      <td>104.257509</td>\n",
       "      <td>6.309829</td>\n",
       "      <td>217.888846</td>\n",
       "      <td>2.589615</td>\n",
       "      <td>28.176482</td>\n",
       "      <td>97.515740</td>\n",
       "      <td>505980</td>\n",
       "      <td>LINESTRING (4.40476 51.22135, 4.40464 51.22128...</td>\n",
       "    </tr>\n",
       "    <tr>\n",
       "      <th>236</th>\n",
       "      <td>77.318753</td>\n",
       "      <td>4.994579</td>\n",
       "      <td>168.394211</td>\n",
       "      <td>2.982604</td>\n",
       "      <td>24.708182</td>\n",
       "      <td>83.131319</td>\n",
       "      <td>1104225</td>\n",
       "      <td>LINESTRING (4.39717 51.21682, 4.39754 51.21671)</td>\n",
       "    </tr>\n",
       "  </tbody>\n",
       "</table>\n",
       "</div>"
      ],
      "text/plain": [
       "           bike       bus         car     truck        van        walk  \\\n",
       "120   51.655329  1.791000   74.649722  0.103858   9.450661   91.182524   \n",
       "141  106.000608  5.248702  169.731665  3.189220  28.164432  107.743977   \n",
       "184   74.909900  2.622111   87.458968  0.445701  11.684267   93.449901   \n",
       "196  104.257509  6.309829  217.888846  2.589615  28.176482   97.515740   \n",
       "236   77.318753  4.994579  168.394211  2.982604  24.708182   83.131319   \n",
       "\n",
       "     street_object_id                                           geometry  \n",
       "120            546425  LINESTRING (4.39981 51.22224, 4.39992 51.22221...  \n",
       "141           1104219  LINESTRING (4.39804 51.21729, 4.39844 51.21720...  \n",
       "184            439623  LINESTRING (4.40193 51.21590, 4.40185 51.21589...  \n",
       "196            505980  LINESTRING (4.40476 51.22135, 4.40464 51.22128...  \n",
       "236           1104225    LINESTRING (4.39717 51.21682, 4.39754 51.21671)  "
      ]
     },
     "execution_count": 6,
     "metadata": {},
     "output_type": "execute_result"
    }
   ],
   "source": [
    "gdf = gpd.GeoDataFrame(ml_weights)\n",
    "gdf.head()"
   ]
  },
  {
   "cell_type": "code",
   "execution_count": 8,
   "metadata": {
    "pycharm": {
     "name": "#%%\n"
    }
   },
   "outputs": [
    {
     "name": "stdout",
     "output_type": "stream",
     "text": [
      "User Guide: https://docs.kepler.gl/docs/keplergl-jupyter\n"
     ]
    },
    {
     "data": {
      "application/vnd.jupyter.widget-view+json": {
       "model_id": "1d5537c8a4a2464fa8dfea59189335f7",
       "version_major": 2,
       "version_minor": 0
      },
      "text/plain": [
       "KeplerGl(config={'version': 'v1', 'config': {'visState': {'layers': [{'id': '5wto52g', 'type': 'geojson', 'con…"
      ]
     },
     "metadata": {},
     "output_type": "display_data"
    }
   ],
   "source": [
    "%run hex_config_ml_weights.py\n",
    "map = KeplerGl(height=1000, data={\"density\": gdf}, config=config)\n",
    "map"
   ]
  },
  {
   "cell_type": "code",
   "execution_count": null,
   "metadata": {},
   "outputs": [],
   "source": []
  }
 ],
 "metadata": {
  "kernelspec": {
   "display_name": "Python 3.7.12 ('cityflows-model')",
   "language": "python",
   "name": "python3"
  },
  "language_info": {
   "codemirror_mode": {
    "name": "ipython",
    "version": 3
   },
   "file_extension": ".py",
   "mimetype": "text/x-python",
   "name": "python",
   "nbconvert_exporter": "python",
   "pygments_lexer": "ipython3",
   "version": "3.7.12"
  },
  "vscode": {
   "interpreter": {
    "hash": "d45c0e8abf818e99bf11c048c68e5aa0cd91948d89137a73704e52592e526ef7"
   }
  }
 },
 "nbformat": 4,
 "nbformat_minor": 2
}
