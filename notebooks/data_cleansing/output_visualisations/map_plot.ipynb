{
    "cells": [
        {
            "cell_type": "code",
            "execution_count": 9,
            "metadata": {},
            "outputs": [],
            "source": [
                "import set_lib_path\n",
                "\n",
                "import geopandas as gpd\n",
                "import os\n",
                "import pandas as pd\n",
                "import shapely\n",
                "\n",
                "from keplergl import KeplerGl\n",
                "from src.model.results import load_results\n",
                "from src.model.street_grid.street_segments import load_street_segments"
            ]
        },
        {
            "cell_type": "markdown",
            "metadata": {},
            "source": [
                "# Files paths"
            ]
        },
        {
            "cell_type": "code",
            "execution_count": 10,
            "metadata": {},
            "outputs": [],
            "source": [
                "data_path = '../../../data'\n",
                "output_path = os.path.join(data_path, 'managed_data_files/mobiele_stad/test_set_LC3_b/output')\n",
                "\n",
                "streets_path = os.path.join(output_path, 'streets.csv')\n",
                "results_path = os.path.join(output_path, 'densities.csv')"
            ]
        },
        {
            "cell_type": "markdown",
            "metadata": {},
            "source": [
                "# Load output results"
            ]
        },
        {
            "cell_type": "code",
            "execution_count": 11,
            "metadata": {},
            "outputs": [
                {
                    "data": {
                        "text/html": [
                            "<div>\n",
                            "<style scoped>\n",
                            "    .dataframe tbody tr th:only-of-type {\n",
                            "        vertical-align: middle;\n",
                            "    }\n",
                            "\n",
                            "    .dataframe tbody tr th {\n",
                            "        vertical-align: top;\n",
                            "    }\n",
                            "\n",
                            "    .dataframe thead th {\n",
                            "        text-align: right;\n",
                            "    }\n",
                            "</style>\n",
                            "<table border=\"1\" class=\"dataframe\">\n",
                            "  <thead>\n",
                            "    <tr style=\"text-align: right;\">\n",
                            "      <th></th>\n",
                            "      <th>street_object_id</th>\n",
                            "      <th>timestamp</th>\n",
                            "      <th>bg_density</th>\n",
                            "      <th>bike_density</th>\n",
                            "      <th>mot_density</th>\n",
                            "      <th>pedestrian_density</th>\n",
                            "    </tr>\n",
                            "  </thead>\n",
                            "  <tbody>\n",
                            "    <tr>\n",
                            "      <th>0</th>\n",
                            "      <td>85577</td>\n",
                            "      <td>2020-05-10 22:00:00+00:00</td>\n",
                            "      <td>2.634434e-07</td>\n",
                            "      <td>5.296673e-02</td>\n",
                            "      <td>0.169681</td>\n",
                            "      <td>6.858965e-02</td>\n",
                            "    </tr>\n",
                            "    <tr>\n",
                            "      <th>1</th>\n",
                            "      <td>90671</td>\n",
                            "      <td>2020-05-10 22:00:00+00:00</td>\n",
                            "      <td>-1.282265e-07</td>\n",
                            "      <td>5.542659e-02</td>\n",
                            "      <td>0.177026</td>\n",
                            "      <td>7.328208e-02</td>\n",
                            "    </tr>\n",
                            "    <tr>\n",
                            "      <th>2</th>\n",
                            "      <td>97107</td>\n",
                            "      <td>2020-05-10 22:00:00+00:00</td>\n",
                            "      <td>-4.618523e-07</td>\n",
                            "      <td>7.266598e-02</td>\n",
                            "      <td>0.181068</td>\n",
                            "      <td>7.791602e-02</td>\n",
                            "    </tr>\n",
                            "    <tr>\n",
                            "      <th>3</th>\n",
                            "      <td>97869</td>\n",
                            "      <td>2020-05-10 22:00:00+00:00</td>\n",
                            "      <td>-4.703569e-07</td>\n",
                            "      <td>5.221988e-02</td>\n",
                            "      <td>0.186375</td>\n",
                            "      <td>6.502054e-02</td>\n",
                            "    </tr>\n",
                            "    <tr>\n",
                            "      <th>4</th>\n",
                            "      <td>100545</td>\n",
                            "      <td>2020-05-10 22:00:00+00:00</td>\n",
                            "      <td>4.392225e-02</td>\n",
                            "      <td>2.015786e-01</td>\n",
                            "      <td>0.504071</td>\n",
                            "      <td>2.362324e-01</td>\n",
                            "    </tr>\n",
                            "    <tr>\n",
                            "      <th>...</th>\n",
                            "      <td>...</td>\n",
                            "      <td>...</td>\n",
                            "      <td>...</td>\n",
                            "      <td>...</td>\n",
                            "      <td>...</td>\n",
                            "      <td>...</td>\n",
                            "    </tr>\n",
                            "    <tr>\n",
                            "      <th>94535</th>\n",
                            "      <td>1152185</td>\n",
                            "      <td>2020-05-11 10:00:00+00:00</td>\n",
                            "      <td>2.488063e-06</td>\n",
                            "      <td>1.857770e-01</td>\n",
                            "      <td>0.417705</td>\n",
                            "      <td>1.594728e-01</td>\n",
                            "    </tr>\n",
                            "    <tr>\n",
                            "      <th>94536</th>\n",
                            "      <td>1152186</td>\n",
                            "      <td>2020-05-11 10:00:00+00:00</td>\n",
                            "      <td>2.843182e-06</td>\n",
                            "      <td>1.303337e-01</td>\n",
                            "      <td>0.433903</td>\n",
                            "      <td>1.470624e-01</td>\n",
                            "    </tr>\n",
                            "    <tr>\n",
                            "      <th>94537</th>\n",
                            "      <td>1152187</td>\n",
                            "      <td>2020-05-11 10:00:00+00:00</td>\n",
                            "      <td>-6.873308e-08</td>\n",
                            "      <td>-6.873308e-08</td>\n",
                            "      <td>0.011428</td>\n",
                            "      <td>-6.873308e-08</td>\n",
                            "    </tr>\n",
                            "    <tr>\n",
                            "      <th>94538</th>\n",
                            "      <td>1152188</td>\n",
                            "      <td>2020-05-11 10:00:00+00:00</td>\n",
                            "      <td>2.053825e-02</td>\n",
                            "      <td>9.322129e-02</td>\n",
                            "      <td>0.201520</td>\n",
                            "      <td>6.493172e-02</td>\n",
                            "    </tr>\n",
                            "    <tr>\n",
                            "      <th>94539</th>\n",
                            "      <td>1152220</td>\n",
                            "      <td>2020-05-11 10:00:00+00:00</td>\n",
                            "      <td>1.450296e-03</td>\n",
                            "      <td>8.186455e-02</td>\n",
                            "      <td>0.205919</td>\n",
                            "      <td>5.716670e-02</td>\n",
                            "    </tr>\n",
                            "  </tbody>\n",
                            "</table>\n",
                            "<p>6520 rows × 6 columns</p>\n",
                            "</div>"
                        ],
                        "text/plain": [
                            "       street_object_id                 timestamp    bg_density  bike_density  \\\n",
                            "0                 85577 2020-05-10 22:00:00+00:00  2.634434e-07  5.296673e-02   \n",
                            "1                 90671 2020-05-10 22:00:00+00:00 -1.282265e-07  5.542659e-02   \n",
                            "2                 97107 2020-05-10 22:00:00+00:00 -4.618523e-07  7.266598e-02   \n",
                            "3                 97869 2020-05-10 22:00:00+00:00 -4.703569e-07  5.221988e-02   \n",
                            "4                100545 2020-05-10 22:00:00+00:00  4.392225e-02  2.015786e-01   \n",
                            "...                 ...                       ...           ...           ...   \n",
                            "94535           1152185 2020-05-11 10:00:00+00:00  2.488063e-06  1.857770e-01   \n",
                            "94536           1152186 2020-05-11 10:00:00+00:00  2.843182e-06  1.303337e-01   \n",
                            "94537           1152187 2020-05-11 10:00:00+00:00 -6.873308e-08 -6.873308e-08   \n",
                            "94538           1152188 2020-05-11 10:00:00+00:00  2.053825e-02  9.322129e-02   \n",
                            "94539           1152220 2020-05-11 10:00:00+00:00  1.450296e-03  8.186455e-02   \n",
                            "\n",
                            "       mot_density  pedestrian_density  \n",
                            "0         0.169681        6.858965e-02  \n",
                            "1         0.177026        7.328208e-02  \n",
                            "2         0.181068        7.791602e-02  \n",
                            "3         0.186375        6.502054e-02  \n",
                            "4         0.504071        2.362324e-01  \n",
                            "...            ...                 ...  \n",
                            "94535     0.417705        1.594728e-01  \n",
                            "94536     0.433903        1.470624e-01  \n",
                            "94537     0.011428       -6.873308e-08  \n",
                            "94538     0.201520        6.493172e-02  \n",
                            "94539     0.205919        5.716670e-02  \n",
                            "\n",
                            "[6520 rows x 6 columns]"
                        ]
                    },
                    "execution_count": 11,
                    "metadata": {},
                    "output_type": "execute_result"
                }
            ],
            "source": [
                "results = load_results(results_path)\n",
                "\n",
                "# #temporal filter\n",
                "# results = results[results['timestamp'].isin(['2020-05-10 22:00:00+00:00','2020-05-10 23:00:00+00:00''2020-05-11 00:00:00+00:00','2020-05-11 01:00:00+00:00','2020-05-11 02:00:00+00:00','2020-05-11 03:00:00+00:00','2020-05-11 04:00:00+00:00','2020-05-11 05:00:00+00:00','2020-05-11 06:00:00+00:00','2020-05-11 08:00:00+00:00','2020-05-11 09:00:00+00:00','2020-05-11 10:00:00+00:00'])]\n",
                "\n",
                "results"
            ]
        },
        {
            "cell_type": "markdown",
            "metadata": {},
            "source": [
                "# Densities Mapping with Kepler.gl"
            ]
        },
        {
            "cell_type": "code",
            "execution_count": 12,
            "metadata": {},
            "outputs": [],
            "source": [
                "streets = pd.read_csv(streets_path)\n",
                "streets['street_object_geometry'] = streets['street_object_geometry'].apply(lambda x : shapely.wkt.loads(x))\n",
                "streets_mapping = streets.set_index('street_object_id')['street_object_geometry']"
            ]
        },
        {
            "cell_type": "code",
            "execution_count": 13,
            "metadata": {},
            "outputs": [],
            "source": [
                "results['geometry'] = results['street_object_id'].map(streets_mapping)"
            ]
        },
        {
            "cell_type": "markdown",
            "metadata": {},
            "source": [
                "### applying street geometry to data points"
            ]
        },
        {
            "cell_type": "code",
            "execution_count": 14,
            "metadata": {},
            "outputs": [
                {
                    "data": {
                        "text/html": [
                            "<div>\n",
                            "<style scoped>\n",
                            "    .dataframe tbody tr th:only-of-type {\n",
                            "        vertical-align: middle;\n",
                            "    }\n",
                            "\n",
                            "    .dataframe tbody tr th {\n",
                            "        vertical-align: top;\n",
                            "    }\n",
                            "\n",
                            "    .dataframe thead th {\n",
                            "        text-align: right;\n",
                            "    }\n",
                            "</style>\n",
                            "<table border=\"1\" class=\"dataframe\">\n",
                            "  <thead>\n",
                            "    <tr style=\"text-align: right;\">\n",
                            "      <th></th>\n",
                            "      <th>street_object_id</th>\n",
                            "      <th>timestamp</th>\n",
                            "      <th>bg_density</th>\n",
                            "      <th>bike_density</th>\n",
                            "      <th>mot_density</th>\n",
                            "      <th>pedestrian_density</th>\n",
                            "      <th>geometry</th>\n",
                            "    </tr>\n",
                            "  </thead>\n",
                            "  <tbody>\n",
                            "    <tr>\n",
                            "      <th>0</th>\n",
                            "      <td>85577</td>\n",
                            "      <td>2020-05-10 22:00:00+00:00</td>\n",
                            "      <td>2.634434e-07</td>\n",
                            "      <td>0.052967</td>\n",
                            "      <td>0.169681</td>\n",
                            "      <td>0.068590</td>\n",
                            "      <td>LINESTRING (4.39524 51.21355, 4.39522 51.21356...</td>\n",
                            "    </tr>\n",
                            "    <tr>\n",
                            "      <th>1</th>\n",
                            "      <td>90671</td>\n",
                            "      <td>2020-05-10 22:00:00+00:00</td>\n",
                            "      <td>-1.282265e-07</td>\n",
                            "      <td>0.055427</td>\n",
                            "      <td>0.177026</td>\n",
                            "      <td>0.073282</td>\n",
                            "      <td>LINESTRING (4.39494 51.21391, 4.39486 51.21389...</td>\n",
                            "    </tr>\n",
                            "    <tr>\n",
                            "      <th>2</th>\n",
                            "      <td>97107</td>\n",
                            "      <td>2020-05-10 22:00:00+00:00</td>\n",
                            "      <td>-4.618523e-07</td>\n",
                            "      <td>0.072666</td>\n",
                            "      <td>0.181068</td>\n",
                            "      <td>0.077916</td>\n",
                            "      <td>LINESTRING (4.39593 51.21350, 4.39596 51.21358...</td>\n",
                            "    </tr>\n",
                            "    <tr>\n",
                            "      <th>3</th>\n",
                            "      <td>97869</td>\n",
                            "      <td>2020-05-10 22:00:00+00:00</td>\n",
                            "      <td>-4.703569e-07</td>\n",
                            "      <td>0.052220</td>\n",
                            "      <td>0.186375</td>\n",
                            "      <td>0.065021</td>\n",
                            "      <td>LINESTRING (4.39460 51.21436, 4.39507 51.21429)</td>\n",
                            "    </tr>\n",
                            "    <tr>\n",
                            "      <th>4</th>\n",
                            "      <td>100545</td>\n",
                            "      <td>2020-05-10 22:00:00+00:00</td>\n",
                            "      <td>4.392225e-02</td>\n",
                            "      <td>0.201579</td>\n",
                            "      <td>0.504071</td>\n",
                            "      <td>0.236232</td>\n",
                            "      <td>LINESTRING (4.39580 51.21336, 4.39588 51.21335)</td>\n",
                            "    </tr>\n",
                            "  </tbody>\n",
                            "</table>\n",
                            "</div>"
                        ],
                        "text/plain": [
                            "   street_object_id                 timestamp    bg_density  bike_density  \\\n",
                            "0             85577 2020-05-10 22:00:00+00:00  2.634434e-07      0.052967   \n",
                            "1             90671 2020-05-10 22:00:00+00:00 -1.282265e-07      0.055427   \n",
                            "2             97107 2020-05-10 22:00:00+00:00 -4.618523e-07      0.072666   \n",
                            "3             97869 2020-05-10 22:00:00+00:00 -4.703569e-07      0.052220   \n",
                            "4            100545 2020-05-10 22:00:00+00:00  4.392225e-02      0.201579   \n",
                            "\n",
                            "   mot_density  pedestrian_density  \\\n",
                            "0     0.169681            0.068590   \n",
                            "1     0.177026            0.073282   \n",
                            "2     0.181068            0.077916   \n",
                            "3     0.186375            0.065021   \n",
                            "4     0.504071            0.236232   \n",
                            "\n",
                            "                                            geometry  \n",
                            "0  LINESTRING (4.39524 51.21355, 4.39522 51.21356...  \n",
                            "1  LINESTRING (4.39494 51.21391, 4.39486 51.21389...  \n",
                            "2  LINESTRING (4.39593 51.21350, 4.39596 51.21358...  \n",
                            "3    LINESTRING (4.39460 51.21436, 4.39507 51.21429)  \n",
                            "4    LINESTRING (4.39580 51.21336, 4.39588 51.21335)  "
                        ]
                    },
                    "execution_count": 14,
                    "metadata": {},
                    "output_type": "execute_result"
                }
            ],
            "source": [
                "gdf = gpd.GeoDataFrame(results)\n",
                "gdf.head()"
            ]
        },
        {
            "cell_type": "code",
            "execution_count": 15,
            "metadata": {},
            "outputs": [
                {
                    "name": "stdout",
                    "output_type": "stream",
                    "text": [
                        "User Guide: https://docs.kepler.gl/docs/keplergl-jupyter\n"
                    ]
                },
                {
                    "data": {
                        "application/vnd.jupyter.widget-view+json": {
                            "model_id": "ebd60bd8ebcf4ca9ad89d9645a7d0ac2",
                            "version_major": 2,
                            "version_minor": 0
                        },
                        "text/plain": [
                            "KeplerGl(config={'version': 'v1', 'config': {'visState': {'filters': [{'dataId': ['density'], 'id': '1i070uf9f…"
                        ]
                    },
                    "metadata": {},
                    "output_type": "display_data"
                }
            ],
            "source": [
                "%run hex_config.py\n",
                "map = KeplerGl(height=1000, data={\"density\": gdf}, config=config)\n",
                "map"
            ]
        },
        {
            "cell_type": "code",
            "execution_count": null,
            "metadata": {},
            "outputs": [],
            "source": []
        }
    ],
    "metadata": {
        "kernelspec": {
            "display_name": "Python 3.7.12 ('cityflows-model')",
            "language": "python",
            "name": "python3"
        },
        "language_info": {
            "codemirror_mode": {
                "name": "ipython",
                "version": 3
            },
            "file_extension": ".py",
            "mimetype": "text/x-python",
            "name": "python",
            "nbconvert_exporter": "python",
            "pygments_lexer": "ipython3",
            "version": "3.7.12"
        },
        "vscode": {
            "interpreter": {
                "hash": "d45c0e8abf818e99bf11c048c68e5aa0cd91948d89137a73704e52592e526ef7"
            }
        }
    },
    "nbformat": 4,
    "nbformat_minor": 2
}
